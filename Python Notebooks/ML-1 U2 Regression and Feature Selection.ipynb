{
 "cells": [
  {
   "cell_type": "code",
   "execution_count": 1,
   "metadata": {},
   "outputs": [],
   "source": [
    "from sklearn.linear_model import LinearRegression\n",
    "from sklearn.metrics import mean_squared_error, r2_score\n",
    "from sklearn.model_selection import train_test_split\n",
    "import pandas as pd\n",
    "import matplotlib.pyplot as plt\n",
    "import statsmodels.api as sm"
   ]
  },
  {
   "cell_type": "markdown",
   "metadata": {},
   "source": [
    "Loading the Advertising Data"
   ]
  },
  {
   "cell_type": "code",
   "execution_count": 2,
   "metadata": {},
   "outputs": [
    {
     "name": "stdout",
     "output_type": "stream",
     "text": [
      "(200, 5)\n",
      "Index(['S_No', 'TV', 'radio', 'newspaper', 'sales'], dtype='object')\n"
     ]
    }
   ],
   "source": [
    "df = pd.read_csv(\"ISL_DataSets\\Advertising.csv\")\n",
    "print(df.shape)\n",
    "print(df.columns)"
   ]
  },
  {
   "attachments": {},
   "cell_type": "markdown",
   "metadata": {},
   "source": [
    "### Single Variable Regression"
   ]
  },
  {
   "attachments": {},
   "cell_type": "markdown",
   "metadata": {},
   "source": [
    "without splitting into train and test"
   ]
  },
  {
   "cell_type": "code",
   "execution_count": 3,
   "metadata": {},
   "outputs": [
    {
     "name": "stdout",
     "output_type": "stream",
     "text": [
      "0.611875050850071\n",
      "[[0.04753664]]\n",
      "[7.03259355]\n"
     ]
    }
   ],
   "source": [
    "#X = df[['TV','radio','newspaper']]\n",
    "X = df[['TV']]\n",
    "y = df[['sales']]\n",
    "reg = LinearRegression().fit(X, y)\n",
    "print(reg.score(X, y))\n",
    "print(reg.coef_)\n",
    "print(reg.intercept_)"
   ]
  },
  {
   "attachments": {},
   "cell_type": "markdown",
   "metadata": {},
   "source": [
    "Printing values of evaluation metrics"
   ]
  },
  {
   "cell_type": "code",
   "execution_count": 5,
   "metadata": {},
   "outputs": [
    {
     "name": "stdout",
     "output_type": "stream",
     "text": [
      "Mean squared error: 10.513\n",
      "Coefficient of determination: 0.61188\n"
     ]
    }
   ],
   "source": [
    "y_pred = reg.predict(X)\n",
    "print(\"Mean squared error: %.3f\" % mean_squared_error(y, y_pred))\n",
    "print(\"Coefficient of determination: %.5f\" % r2_score(y, y_pred))"
   ]
  },
  {
   "attachments": {},
   "cell_type": "markdown",
   "metadata": {},
   "source": [
    "Splitting the data into train and test"
   ]
  },
  {
   "cell_type": "code",
   "execution_count": 13,
   "metadata": {},
   "outputs": [
    {
     "name": "stdout",
     "output_type": "stream",
     "text": [
      "0.331407721956714\n",
      "[[0.20434528]]\n",
      "[9.14144567]\n",
      "Mean squared error: 19.93\n",
      "Coefficient of determination: 0.319\n"
     ]
    }
   ],
   "source": [
    "#X = df[['TV','radio','newspaper']]\n",
    "X = df[['radio']]\n",
    "y = df[['sales']]\n",
    "# repeat this activity multiple times and record the R2 and MSE for each run\n",
    "X_train, X_test, y_train, y_test = train_test_split(X, y, test_size = 0.3)\n",
    "reg2 = LinearRegression().fit(X_train, y_train)\n",
    "print(reg2.score(X, y))\n",
    "print(reg2.coef_)\n",
    "print(reg2.intercept_)\n",
    "y_pred_test = reg2.predict(X_test)\n",
    "print(\"Mean squared error: %.2f\" % mean_squared_error(y_test, y_pred_test))\n",
    "print(\"Coefficient of determination: %.3f\" % r2_score(y_test, y_pred_test))"
   ]
  },
  {
   "cell_type": "code",
   "execution_count": null,
   "metadata": {},
   "outputs": [],
   "source": [
    "#repeat the activity for radio and newspaper as well"
   ]
  },
  {
   "attachments": {},
   "cell_type": "markdown",
   "metadata": {},
   "source": [
    "### Multiple Linear Regression"
   ]
  },
  {
   "attachments": {},
   "cell_type": "markdown",
   "metadata": {},
   "source": [
    "without splitting into train and test"
   ]
  },
  {
   "cell_type": "code",
   "execution_count": 16,
   "metadata": {},
   "outputs": [
    {
     "name": "stdout",
     "output_type": "stream",
     "text": [
      "0.8971942610828956\n",
      "[[0.04575482 0.18799423]]\n",
      "[2.92109991]\n",
      "Mean squared error: 2.78\n",
      "Coefficient of determination: 0.897\n"
     ]
    }
   ],
   "source": [
    "# 2 variables\n",
    "X = df[['TV','radio']]\n",
    "y = df[['sales']]\n",
    "reg = LinearRegression().fit(X, y)\n",
    "print(reg.score(X, y))\n",
    "print(reg.coef_)\n",
    "print(reg.intercept_)\n",
    "y_pred = reg.predict(X)\n",
    "print(\"Mean squared error: %.2f\" % mean_squared_error(y, y_pred))\n",
    "print(\"Coefficient of determination: %.3f\" % r2_score(y, y_pred))"
   ]
  },
  {
   "attachments": {},
   "cell_type": "markdown",
   "metadata": {},
   "source": [
    "2 variables"
   ]
  },
  {
   "cell_type": "code",
   "execution_count": 21,
   "metadata": {},
   "outputs": [
    {
     "name": "stdout",
     "output_type": "stream",
     "text": [
      "0.8952493331492486\n",
      "[[0.04611838 0.18986515]]\n",
      "[2.8008971]\n",
      "Mean squared error: 3.03\n",
      "Coefficient of determination: 0.901\n"
     ]
    }
   ],
   "source": [
    "# train test split\n",
    "X = df[['TV','radio']]\n",
    "y = df[['sales']]\n",
    "X_train, X_test, y_train, y_test = train_test_split(X, y, test_size = 0.3)\n",
    "reg2 = LinearRegression().fit(X_train, y_train)\n",
    "print(reg2.score(X_train, y_train))\n",
    "print(reg2.coef_)\n",
    "print(reg2.intercept_)\n",
    "y_pred_test = reg2.predict(X_test)\n",
    "print(\"Mean squared error: %.2f\" % mean_squared_error(y_test, y_pred_test))\n",
    "print(\"Coefficient of determination: %.3f\" % r2_score(y_test, y_pred_test))"
   ]
  },
  {
   "attachments": {},
   "cell_type": "markdown",
   "metadata": {},
   "source": [
    "3 variables"
   ]
  },
  {
   "cell_type": "code",
   "execution_count": 22,
   "metadata": {},
   "outputs": [
    {
     "name": "stdout",
     "output_type": "stream",
     "text": [
      "0.8972106381789522\n",
      "[[ 0.04576465  0.18853002 -0.00103749]]\n",
      "[2.93888937]\n",
      "Mean squared error: 2.78\n",
      "Coefficient of determination: 0.897\n"
     ]
    }
   ],
   "source": [
    "X = df[['TV','radio','newspaper']]\n",
    "y = df[['sales']]\n",
    "reg = LinearRegression().fit(X, y)\n",
    "print(reg.score(X, y))\n",
    "print(reg.coef_)\n",
    "print(reg.intercept_)\n",
    "y_pred = reg.predict(X)\n",
    "print(\"Mean squared error: %.2f\" % mean_squared_error(y, y_pred))\n",
    "print(\"Coefficient of determination: %.3f\" % r2_score(y, y_pred))"
   ]
  },
  {
   "attachments": {},
   "cell_type": "markdown",
   "metadata": {},
   "source": [
    "splitting into train and test data"
   ]
  },
  {
   "cell_type": "code",
   "execution_count": 25,
   "metadata": {},
   "outputs": [
    {
     "name": "stdout",
     "output_type": "stream",
     "text": [
      "0.9085340493755486\n",
      "[[0.04627265 0.17946534 0.00045695]]\n",
      "[3.15291007]\n",
      "Mean squared error: 3.30\n",
      "Coefficient of determination: 0.861\n"
     ]
    }
   ],
   "source": [
    "# train test split - 3 variables\n",
    "X = df[['TV','radio','newspaper']]\n",
    "#X = df[['TV','radio']]\n",
    "y = df[['sales']]\n",
    "X_train, X_test, y_train, y_test = train_test_split(X, y, test_size = 0.3)\n",
    "reg2 = LinearRegression().fit(X_train, y_train)\n",
    "print(reg2.score(X_train, y_train))\n",
    "print(reg2.coef_)\n",
    "print(reg2.intercept_)\n",
    "y_pred_test = reg2.predict(X_test)\n",
    "print(\"Mean squared error: %.2f\" % mean_squared_error(y_test, y_pred_test))\n",
    "print(\"Coefficient of determination: %.3f\" % r2_score(y_test, y_pred_test))"
   ]
  },
  {
   "cell_type": "code",
   "execution_count": 26,
   "metadata": {},
   "outputs": [
    {
     "data": {
      "text/html": [
       "<div><div id=3dcab063-d07b-4fdd-ba29-97402aec7a5c style=\"display:none; background-color:#9D6CFF; color:white; width:200px; height:30px; padding-left:5px; border-radius:4px; flex-direction:row; justify-content:space-around; align-items:center;\" onmouseover=\"this.style.backgroundColor='#BA9BF8'\" onmouseout=\"this.style.backgroundColor='#9D6CFF'\" onclick=\"window.commands?.execute('create-mitosheet-from-dataframe-output');\">See Full Dataframe in Mito</div> <script> if (window.commands.hasCommand('create-mitosheet-from-dataframe-output')) document.getElementById('3dcab063-d07b-4fdd-ba29-97402aec7a5c').style.display = 'flex' </script> <table border=\"1\" class=\"dataframe\">\n",
       "  <thead>\n",
       "    <tr style=\"text-align: right;\">\n",
       "      <th></th>\n",
       "      <th>TV</th>\n",
       "      <th>radio</th>\n",
       "      <th>newspaper</th>\n",
       "      <th>sales</th>\n",
       "    </tr>\n",
       "  </thead>\n",
       "  <tbody>\n",
       "    <tr>\n",
       "      <th>TV</th>\n",
       "      <td>1.000000</td>\n",
       "      <td>0.054809</td>\n",
       "      <td>0.056648</td>\n",
       "      <td>0.782224</td>\n",
       "    </tr>\n",
       "    <tr>\n",
       "      <th>radio</th>\n",
       "      <td>0.054809</td>\n",
       "      <td>1.000000</td>\n",
       "      <td>0.354104</td>\n",
       "      <td>0.576223</td>\n",
       "    </tr>\n",
       "    <tr>\n",
       "      <th>newspaper</th>\n",
       "      <td>0.056648</td>\n",
       "      <td>0.354104</td>\n",
       "      <td>1.000000</td>\n",
       "      <td>0.228299</td>\n",
       "    </tr>\n",
       "    <tr>\n",
       "      <th>sales</th>\n",
       "      <td>0.782224</td>\n",
       "      <td>0.576223</td>\n",
       "      <td>0.228299</td>\n",
       "      <td>1.000000</td>\n",
       "    </tr>\n",
       "  </tbody>\n",
       "</table></div>"
      ],
      "text/plain": [
       "                 TV     radio  newspaper     sales\n",
       "TV         1.000000  0.054809   0.056648  0.782224\n",
       "radio      0.054809  1.000000   0.354104  0.576223\n",
       "newspaper  0.056648  0.354104   1.000000  0.228299\n",
       "sales      0.782224  0.576223   0.228299  1.000000"
      ]
     },
     "execution_count": 26,
     "metadata": {},
     "output_type": "execute_result"
    }
   ],
   "source": [
    "#compute correlation matrix\n",
    "X2 = df.drop(columns=['S_No'])\n",
    "X2.corr()"
   ]
  },
  {
   "cell_type": "markdown",
   "metadata": {},
   "source": [
    "Using Statsmodel Library"
   ]
  },
  {
   "cell_type": "code",
   "execution_count": 27,
   "metadata": {},
   "outputs": [
    {
     "name": "stdout",
     "output_type": "stream",
     "text": [
      "                            OLS Regression Results                            \n",
      "==============================================================================\n",
      "Dep. Variable:                  sales   R-squared:                       0.897\n",
      "Model:                            OLS   Adj. R-squared:                  0.896\n",
      "Method:                 Least Squares   F-statistic:                     570.3\n",
      "Date:                Mon, 23 Jan 2023   Prob (F-statistic):           1.58e-96\n",
      "Time:                        10:28:59   Log-Likelihood:                -386.18\n",
      "No. Observations:                 200   AIC:                             780.4\n",
      "Df Residuals:                     196   BIC:                             793.6\n",
      "Df Model:                           3                                         \n",
      "Covariance Type:            nonrobust                                         \n",
      "==============================================================================\n",
      "                 coef    std err          t      P>|t|      [0.025      0.975]\n",
      "------------------------------------------------------------------------------\n",
      "const          2.9389      0.312      9.422      0.000       2.324       3.554\n",
      "TV             0.0458      0.001     32.809      0.000       0.043       0.049\n",
      "radio          0.1885      0.009     21.893      0.000       0.172       0.206\n",
      "newspaper     -0.0010      0.006     -0.177      0.860      -0.013       0.011\n",
      "==============================================================================\n",
      "Omnibus:                       60.414   Durbin-Watson:                   2.084\n",
      "Prob(Omnibus):                  0.000   Jarque-Bera (JB):              151.241\n",
      "Skew:                          -1.327   Prob(JB):                     1.44e-33\n",
      "Kurtosis:                       6.332   Cond. No.                         454.\n",
      "==============================================================================\n",
      "\n",
      "Notes:\n",
      "[1] Standard Errors assume that the covariance matrix of the errors is correctly specified.\n"
     ]
    }
   ],
   "source": [
    "X = sm.add_constant(X)\n",
    "mod = sm.OLS(y, X)\n",
    "res = mod.fit()\n",
    "print(res.summary())\n"
   ]
  },
  {
   "attachments": {},
   "cell_type": "markdown",
   "metadata": {},
   "source": [
    "Interaction Model (manually)"
   ]
  },
  {
   "cell_type": "code",
   "execution_count": 28,
   "metadata": {},
   "outputs": [
    {
     "name": "stdout",
     "output_type": "stream",
     "text": [
      "(200, 3)\n"
     ]
    },
    {
     "name": "stderr",
     "output_type": "stream",
     "text": [
      "<ipython-input-28-4924abfbcf59>:2: SettingWithCopyWarning: \n",
      "A value is trying to be set on a copy of a slice from a DataFrame.\n",
      "Try using .loc[row_indexer,col_indexer] = value instead\n",
      "\n",
      "See the caveats in the documentation: https://pandas.pydata.org/pandas-docs/stable/user_guide/indexing.html#returning-a-view-versus-a-copy\n",
      "  X['TV_Radio'] = df['TV']*df['radio']\n"
     ]
    },
    {
     "data": {
      "text/html": [
       "<div><div id=7929d6a6-53b8-4a55-98cc-1c0ee7f4251a style=\"display:none; background-color:#9D6CFF; color:white; width:200px; height:30px; padding-left:5px; border-radius:4px; flex-direction:row; justify-content:space-around; align-items:center;\" onmouseover=\"this.style.backgroundColor='#BA9BF8'\" onmouseout=\"this.style.backgroundColor='#9D6CFF'\" onclick=\"window.commands?.execute('create-mitosheet-from-dataframe-output');\">See Full Dataframe in Mito</div> <script> if (window.commands.hasCommand('create-mitosheet-from-dataframe-output')) document.getElementById('7929d6a6-53b8-4a55-98cc-1c0ee7f4251a').style.display = 'flex' </script> <table border=\"1\" class=\"dataframe\">\n",
       "  <thead>\n",
       "    <tr style=\"text-align: right;\">\n",
       "      <th></th>\n",
       "      <th>TV</th>\n",
       "      <th>radio</th>\n",
       "      <th>TV_Radio</th>\n",
       "    </tr>\n",
       "  </thead>\n",
       "  <tbody>\n",
       "    <tr>\n",
       "      <th>0</th>\n",
       "      <td>230.1</td>\n",
       "      <td>37.8</td>\n",
       "      <td>8697.78</td>\n",
       "    </tr>\n",
       "    <tr>\n",
       "      <th>1</th>\n",
       "      <td>44.5</td>\n",
       "      <td>39.3</td>\n",
       "      <td>1748.85</td>\n",
       "    </tr>\n",
       "    <tr>\n",
       "      <th>2</th>\n",
       "      <td>17.2</td>\n",
       "      <td>45.9</td>\n",
       "      <td>789.48</td>\n",
       "    </tr>\n",
       "    <tr>\n",
       "      <th>3</th>\n",
       "      <td>151.5</td>\n",
       "      <td>41.3</td>\n",
       "      <td>6256.95</td>\n",
       "    </tr>\n",
       "    <tr>\n",
       "      <th>4</th>\n",
       "      <td>180.8</td>\n",
       "      <td>10.8</td>\n",
       "      <td>1952.64</td>\n",
       "    </tr>\n",
       "  </tbody>\n",
       "</table></div>"
      ],
      "text/plain": [
       "      TV  radio  TV_Radio\n",
       "0  230.1   37.8   8697.78\n",
       "1   44.5   39.3   1748.85\n",
       "2   17.2   45.9    789.48\n",
       "3  151.5   41.3   6256.95\n",
       "4  180.8   10.8   1952.64"
      ]
     },
     "execution_count": 28,
     "metadata": {},
     "output_type": "execute_result"
    }
   ],
   "source": [
    "X = df[['TV','radio']]\n",
    "X['TV_Radio'] = df['TV']*df['radio']\n",
    "print(X.shape)\n",
    "X.head()"
   ]
  },
  {
   "cell_type": "code",
   "execution_count": 29,
   "metadata": {},
   "outputs": [
    {
     "name": "stdout",
     "output_type": "stream",
     "text": [
      "0.9677905498482523\n",
      "[[0.01910107 0.02886034 0.00108649]]\n",
      "[6.7502202]\n",
      "Mean squared error: 0.87\n",
      "Coefficient of determination: 0.968\n"
     ]
    }
   ],
   "source": [
    "y = df[['sales']]\n",
    "reg = LinearRegression().fit(X, y)\n",
    "print(reg.score(X, y))\n",
    "print(reg.coef_)\n",
    "print(reg.intercept_)\n",
    "y_pred = reg.predict(X)\n",
    "print(\"Mean squared error: %.2f\" % mean_squared_error(y, y_pred))\n",
    "print(\"Coefficient of determination: %.3f\" % r2_score(y, y_pred))"
   ]
  },
  {
   "cell_type": "code",
   "execution_count": 30,
   "metadata": {},
   "outputs": [
    {
     "name": "stdout",
     "output_type": "stream",
     "text": [
      "                            OLS Regression Results                            \n",
      "==============================================================================\n",
      "Dep. Variable:                  sales   R-squared:                       0.968\n",
      "Model:                            OLS   Adj. R-squared:                  0.967\n",
      "Method:                 Least Squares   F-statistic:                     1963.\n",
      "Date:                Mon, 23 Jan 2023   Prob (F-statistic):          6.68e-146\n",
      "Time:                        10:34:30   Log-Likelihood:                -270.14\n",
      "No. Observations:                 200   AIC:                             548.3\n",
      "Df Residuals:                     196   BIC:                             561.5\n",
      "Df Model:                           3                                         \n",
      "Covariance Type:            nonrobust                                         \n",
      "==============================================================================\n",
      "                 coef    std err          t      P>|t|      [0.025      0.975]\n",
      "------------------------------------------------------------------------------\n",
      "const          6.7502      0.248     27.233      0.000       6.261       7.239\n",
      "TV             0.0191      0.002     12.699      0.000       0.016       0.022\n",
      "radio          0.0289      0.009      3.241      0.001       0.011       0.046\n",
      "TV_Radio       0.0011   5.24e-05     20.727      0.000       0.001       0.001\n",
      "==============================================================================\n",
      "Omnibus:                      128.132   Durbin-Watson:                   2.224\n",
      "Prob(Omnibus):                  0.000   Jarque-Bera (JB):             1183.719\n",
      "Skew:                          -2.323   Prob(JB):                    9.09e-258\n",
      "Kurtosis:                      13.975   Cond. No.                     1.80e+04\n",
      "==============================================================================\n",
      "\n",
      "Notes:\n",
      "[1] Standard Errors assume that the covariance matrix of the errors is correctly specified.\n",
      "[2] The condition number is large, 1.8e+04. This might indicate that there are\n",
      "strong multicollinearity or other numerical problems.\n"
     ]
    }
   ],
   "source": [
    "X = sm.add_constant(X)\n",
    "mod = sm.OLS(y, X)\n",
    "res = mod.fit()\n",
    "print(res.summary())"
   ]
  },
  {
   "cell_type": "code",
   "execution_count": 32,
   "metadata": {},
   "outputs": [],
   "source": [
    "from sklearn.preprocessing import PolynomialFeatures"
   ]
  },
  {
   "cell_type": "code",
   "execution_count": 33,
   "metadata": {},
   "outputs": [
    {
     "name": "stdout",
     "output_type": "stream",
     "text": [
      "(200, 4)\n",
      "['1' 'TV' 'radio' 'TV radio']\n",
      "                            OLS Regression Results                            \n",
      "==============================================================================\n",
      "Dep. Variable:                  sales   R-squared:                       0.968\n",
      "Model:                            OLS   Adj. R-squared:                  0.967\n",
      "Method:                 Least Squares   F-statistic:                     1963.\n",
      "Date:                Mon, 23 Jan 2023   Prob (F-statistic):          6.68e-146\n",
      "Time:                        10:35:24   Log-Likelihood:                -270.14\n",
      "No. Observations:                 200   AIC:                             548.3\n",
      "Df Residuals:                     196   BIC:                             561.5\n",
      "Df Model:                           3                                         \n",
      "Covariance Type:            nonrobust                                         \n",
      "==============================================================================\n",
      "                 coef    std err          t      P>|t|      [0.025      0.975]\n",
      "------------------------------------------------------------------------------\n",
      "const          6.7502      0.248     27.233      0.000       6.261       7.239\n",
      "x1             0.0191      0.002     12.699      0.000       0.016       0.022\n",
      "x2             0.0289      0.009      3.241      0.001       0.011       0.046\n",
      "x3             0.0011   5.24e-05     20.727      0.000       0.001       0.001\n",
      "==============================================================================\n",
      "Omnibus:                      128.132   Durbin-Watson:                   2.224\n",
      "Prob(Omnibus):                  0.000   Jarque-Bera (JB):             1183.719\n",
      "Skew:                          -2.323   Prob(JB):                    9.09e-258\n",
      "Kurtosis:                      13.975   Cond. No.                     1.80e+04\n",
      "==============================================================================\n",
      "\n",
      "Notes:\n",
      "[1] Standard Errors assume that the covariance matrix of the errors is correctly specified.\n",
      "[2] The condition number is large, 1.8e+04. This might indicate that there are\n",
      "strong multicollinearity or other numerical problems.\n"
     ]
    }
   ],
   "source": [
    "poly = PolynomialFeatures(2,interaction_only=True)\n",
    "X = X = df[['TV','radio']]\n",
    "y = df[['sales']]\n",
    "X2 = poly.fit_transform(X)\n",
    "print(X2.shape)\n",
    "print(poly.get_feature_names_out())\n",
    "X2 = sm.add_constant(X2)\n",
    "mod = sm.OLS(y, X2)\n",
    "res = mod.fit()\n",
    "print(res.summary())"
   ]
  },
  {
   "cell_type": "code",
   "execution_count": 34,
   "metadata": {},
   "outputs": [
    {
     "name": "stdout",
     "output_type": "stream",
     "text": [
      "(200, 6)\n",
      "['1' 'TV' 'radio' 'TV^2' 'TV radio' 'radio^2']\n",
      "                            OLS Regression Results                            \n",
      "==============================================================================\n",
      "Dep. Variable:                  sales   R-squared:                       0.986\n",
      "Model:                            OLS   Adj. R-squared:                  0.986\n",
      "Method:                 Least Squares   F-statistic:                     2740.\n",
      "Date:                Mon, 23 Jan 2023   Prob (F-statistic):          8.17e-178\n",
      "Time:                        10:36:35   Log-Likelihood:                -186.54\n",
      "No. Observations:                 200   AIC:                             385.1\n",
      "Df Residuals:                     194   BIC:                             404.9\n",
      "Df Model:                           5                                         \n",
      "Covariance Type:            nonrobust                                         \n",
      "==============================================================================\n",
      "                 coef    std err          t      P>|t|      [0.025      0.975]\n",
      "------------------------------------------------------------------------------\n",
      "const          5.1944      0.206     25.202      0.000       4.788       5.601\n",
      "x1             0.0510      0.002     22.801      0.000       0.047       0.055\n",
      "x2             0.0265      0.012      2.136      0.034       0.002       0.051\n",
      "x3            -0.0001    6.9e-06    -15.914      0.000      -0.000   -9.62e-05\n",
      "x4             0.0011   3.48e-05     30.892      0.000       0.001       0.001\n",
      "x5             0.0002      0.000      0.789      0.431      -0.000       0.001\n",
      "==============================================================================\n",
      "Omnibus:                      170.235   Durbin-Watson:                   2.200\n",
      "Prob(Omnibus):                  0.000   Jarque-Bera (JB):             4115.221\n",
      "Skew:                          -2.994   Prob(JB):                         0.00\n",
      "Kurtosis:                      24.400   Cond. No.                     1.81e+05\n",
      "==============================================================================\n",
      "\n",
      "Notes:\n",
      "[1] Standard Errors assume that the covariance matrix of the errors is correctly specified.\n",
      "[2] The condition number is large, 1.81e+05. This might indicate that there are\n",
      "strong multicollinearity or other numerical problems.\n"
     ]
    }
   ],
   "source": [
    "poly = PolynomialFeatures(2) #,interaction_only=True)\n",
    "X = df[['TV','radio']]\n",
    "y = df[['sales']]\n",
    "X2 = poly.fit_transform(X)\n",
    "print(X2.shape)\n",
    "print(poly.get_feature_names_out())\n",
    "X2 = sm.add_constant(X2)\n",
    "mod = sm.OLS(y, X2)\n",
    "res = mod.fit()\n",
    "print(res.summary())"
   ]
  },
  {
   "cell_type": "markdown",
   "metadata": {},
   "source": [
    "Feature Selection (Forward and Backward)"
   ]
  },
  {
   "cell_type": "code",
   "execution_count": 35,
   "metadata": {},
   "outputs": [],
   "source": [
    "from sklearn.feature_selection import SequentialFeatureSelector"
   ]
  },
  {
   "cell_type": "markdown",
   "metadata": {},
   "source": [
    "Multiple Regression and Feature Selection using Boston Data"
   ]
  },
  {
   "cell_type": "code",
   "execution_count": 36,
   "metadata": {},
   "outputs": [
    {
     "name": "stdout",
     "output_type": "stream",
     "text": [
      "(506, 14)\n",
      "Index(['s_no', 'crim', 'zn', 'indus', 'chas', 'nox', 'rm', 'age', 'dis', 'rad',\n",
      "       'tax', 'ptratio', 'lstat', 'medv'],\n",
      "      dtype='object')\n"
     ]
    }
   ],
   "source": [
    "df = pd.read_csv(\"ISL_DataSets\\Boston.csv\")\n",
    "print(df.shape)\n",
    "print(df.columns)"
   ]
  },
  {
   "cell_type": "code",
   "execution_count": 37,
   "metadata": {},
   "outputs": [
    {
     "name": "stdout",
     "output_type": "stream",
     "text": [
      "(506, 12)\n"
     ]
    }
   ],
   "source": [
    "X = df.drop(columns=['s_no','medv'])\n",
    "print(X.shape)\n",
    "y = df[['medv']]"
   ]
  },
  {
   "cell_type": "code",
   "execution_count": 38,
   "metadata": {},
   "outputs": [
    {
     "name": "stdout",
     "output_type": "stream",
     "text": [
      "                            OLS Regression Results                            \n",
      "==============================================================================\n",
      "Dep. Variable:                   medv   R-squared:                       0.734\n",
      "Model:                            OLS   Adj. R-squared:                  0.728\n",
      "Method:                 Least Squares   F-statistic:                     113.5\n",
      "Date:                Mon, 23 Jan 2023   Prob (F-statistic):          2.23e-133\n",
      "Time:                        11:05:55   Log-Likelihood:                -1504.9\n",
      "No. Observations:                 506   AIC:                             3036.\n",
      "Df Residuals:                     493   BIC:                             3091.\n",
      "Df Model:                          12                                         \n",
      "Covariance Type:            nonrobust                                         \n",
      "==============================================================================\n",
      "                 coef    std err          t      P>|t|      [0.025      0.975]\n",
      "------------------------------------------------------------------------------\n",
      "const         41.6173      4.936      8.431      0.000      31.919      51.316\n",
      "crim          -0.1214      0.033     -3.678      0.000      -0.186      -0.057\n",
      "zn             0.0470      0.014      3.384      0.001       0.020       0.074\n",
      "indus          0.0135      0.062      0.217      0.829      -0.109       0.136\n",
      "chas           2.8400      0.870      3.264      0.001       1.131       4.549\n",
      "nox          -18.7580      3.851     -4.870      0.000     -26.325     -11.191\n",
      "rm             3.6581      0.420      8.705      0.000       2.832       4.484\n",
      "age            0.0036      0.013      0.271      0.787      -0.023       0.030\n",
      "dis           -1.4908      0.202     -7.394      0.000      -1.887      -1.095\n",
      "rad            0.2894      0.067      4.325      0.000       0.158       0.421\n",
      "tax           -0.0127      0.004     -3.337      0.001      -0.020      -0.005\n",
      "ptratio       -0.9375      0.132     -7.091      0.000      -1.197      -0.678\n",
      "lstat         -0.5520      0.051    -10.897      0.000      -0.652      -0.452\n",
      "==============================================================================\n",
      "Omnibus:                      171.096   Durbin-Watson:                   1.077\n",
      "Prob(Omnibus):                  0.000   Jarque-Bera (JB):              709.937\n",
      "Skew:                           1.477   Prob(JB):                    6.90e-155\n",
      "Kurtosis:                       7.995   Cond. No.                     1.17e+04\n",
      "==============================================================================\n",
      "\n",
      "Notes:\n",
      "[1] Standard Errors assume that the covariance matrix of the errors is correctly specified.\n",
      "[2] The condition number is large, 1.17e+04. This might indicate that there are\n",
      "strong multicollinearity or other numerical problems.\n"
     ]
    }
   ],
   "source": [
    "X = sm.add_constant(X)\n",
    "mod = sm.OLS(y, X)\n",
    "res = mod.fit()\n",
    "print(res.summary())"
   ]
  },
  {
   "cell_type": "code",
   "execution_count": 39,
   "metadata": {},
   "outputs": [
    {
     "name": "stdout",
     "output_type": "stream",
     "text": [
      "['crim' 'chas' 'rm' 'ptratio' 'lstat']\n"
     ]
    }
   ],
   "source": [
    "ols_reg = LinearRegression()\n",
    "sfs = SequentialFeatureSelector(ols_reg, direction='forward',n_features_to_select=5)\n",
    "sfs.fit(X, y)\n",
    "print(sfs.get_feature_names_out())"
   ]
  },
  {
   "cell_type": "code",
   "execution_count": 40,
   "metadata": {},
   "outputs": [
    {
     "name": "stdout",
     "output_type": "stream",
     "text": [
      "['zn' 'nox' 'dis' 'ptratio' 'lstat']\n"
     ]
    }
   ],
   "source": [
    "ols_reg = LinearRegression()\n",
    "sfs = SequentialFeatureSelector(ols_reg, direction='backward',n_features_to_select=5)\n",
    "sfs.fit(X, y)\n",
    "print(sfs.get_feature_names_out())"
   ]
  },
  {
   "cell_type": "markdown",
   "metadata": {},
   "source": [
    "Automating Polynomial Regression and Interaction"
   ]
  },
  {
   "cell_type": "code",
   "execution_count": 42,
   "metadata": {},
   "outputs": [
    {
     "name": "stdout",
     "output_type": "stream",
     "text": [
      "(506, 91)\n",
      "['1' 'crim' 'zn' 'indus' 'chas' 'nox' 'rm' 'age' 'dis' 'rad' 'tax'\n",
      " 'ptratio' 'lstat' 'crim^2' 'crim zn' 'crim indus' 'crim chas' 'crim nox'\n",
      " 'crim rm' 'crim age' 'crim dis' 'crim rad' 'crim tax' 'crim ptratio'\n",
      " 'crim lstat' 'zn^2' 'zn indus' 'zn chas' 'zn nox' 'zn rm' 'zn age'\n",
      " 'zn dis' 'zn rad' 'zn tax' 'zn ptratio' 'zn lstat' 'indus^2' 'indus chas'\n",
      " 'indus nox' 'indus rm' 'indus age' 'indus dis' 'indus rad' 'indus tax'\n",
      " 'indus ptratio' 'indus lstat' 'chas^2' 'chas nox' 'chas rm' 'chas age'\n",
      " 'chas dis' 'chas rad' 'chas tax' 'chas ptratio' 'chas lstat' 'nox^2'\n",
      " 'nox rm' 'nox age' 'nox dis' 'nox rad' 'nox tax' 'nox ptratio'\n",
      " 'nox lstat' 'rm^2' 'rm age' 'rm dis' 'rm rad' 'rm tax' 'rm ptratio'\n",
      " 'rm lstat' 'age^2' 'age dis' 'age rad' 'age tax' 'age ptratio'\n",
      " 'age lstat' 'dis^2' 'dis rad' 'dis tax' 'dis ptratio' 'dis lstat' 'rad^2'\n",
      " 'rad tax' 'rad ptratio' 'rad lstat' 'tax^2' 'tax ptratio' 'tax lstat'\n",
      " 'ptratio^2' 'ptratio lstat' 'lstat^2']\n",
      "Forward Selection\n",
      "['x6' 'x17' 'x63' 'x89' 'x90']\n",
      "Backward Selection\n",
      "['x9' 'x63' 'x66' 'x84' 'x90']\n"
     ]
    }
   ],
   "source": [
    "poly = PolynomialFeatures(2)\n",
    "X = df.drop(columns=['s_no','medv'])\n",
    "y = df[['medv']]\n",
    "X2 = poly.fit_transform(X)\n",
    "print(X2.shape)\n",
    "print(poly.get_feature_names_out())\n",
    "\n",
    "#X2 = sm.add_constant(X2)\n",
    "#mod = sm.OLS(y, X2)\n",
    "#res = mod.fit()\n",
    "#print(res.summary())\n",
    "ols_reg = LinearRegression()\n",
    "print(\"Forward Selection\")\n",
    "sfs = SequentialFeatureSelector(ols_reg, direction='forward',n_features_to_select=5)\n",
    "sfs.fit(X2, y)\n",
    "print(sfs.get_feature_names_out())\n",
    "\n",
    "print(\"Backward Selection\")\n",
    "sfs = SequentialFeatureSelector(ols_reg, direction='backward',n_features_to_select=5)\n",
    "sfs.fit(X2, y)\n",
    "print(sfs.get_feature_names_out())"
   ]
  },
  {
   "cell_type": "code",
   "execution_count": null,
   "metadata": {},
   "outputs": [],
   "source": [
    "poly = PolynomialFeatures(2,interaction_only=True)\n",
    "X = df.drop(columns=['s_no','medv'])\n",
    "y = df[['medv']]\n",
    "X2 = poly.fit_transform(X)\n",
    "print(X2.shape)\n",
    "print(poly.get_feature_names_out())\n",
    "\n",
    "#X2 = sm.add_constant(X2)\n",
    "#mod = sm.OLS(y, X2)\n",
    "#res = mod.fit()\n",
    "#print(res.summary())\n",
    "\n",
    "ols_reg = LinearRegression()\n",
    "print(\"Forward Selection\")\n",
    "sfs = SequentialFeatureSelector(ols_reg, direction='forward',n_features_to_select=5)\n",
    "sfs.fit(X2, y)\n",
    "print(sfs.get_feature_names_out())\n",
    "\n",
    "print(\"Backward Selection\")\n",
    "sfs = SequentialFeatureSelector(ols_reg, direction='backward',n_features_to_select=5)\n",
    "sfs.fit(X2, y)\n",
    "print(sfs.get_feature_names_out())"
   ]
  },
  {
   "cell_type": "markdown",
   "metadata": {},
   "source": [
    "kNN Regression Method"
   ]
  },
  {
   "cell_type": "code",
   "execution_count": null,
   "metadata": {},
   "outputs": [],
   "source": [
    "from sklearn.neighbors import KNeighborsRegressor"
   ]
  },
  {
   "cell_type": "code",
   "execution_count": null,
   "metadata": {},
   "outputs": [],
   "source": [
    "df = pd.read_csv(\"ISL_DataSets\\Advertising.csv\")\n",
    "neigh = KNeighborsRegressor(n_neighbors=5)\n",
    "X = df[['TV','radio']]\n",
    "y = df[['sales']]\n",
    "knn_reg = neigh.fit(X, y)\n",
    "print(knn_reg.score(X, y))\n",
    "#print(reg.coef_)\n",
    "#print(reg.intercept_)\n",
    "y_pred = knn_reg.predict(X)\n",
    "print(\"Mean squared error: %.2f\" % mean_squared_error(y, y_pred))\n",
    "print(\"Coefficient of determination: %.3f\" % r2_score(y, y_pred))"
   ]
  },
  {
   "cell_type": "code",
   "execution_count": null,
   "metadata": {},
   "outputs": [],
   "source": [
    "neigh = KNeighborsRegressor(n_neighbors=3)\n",
    "X = df[['TV','radio']]\n",
    "y = df[['sales']]\n",
    "knn_reg = neigh.fit(X, y)\n",
    "print(knn_reg.score(X, y))\n",
    "#print(reg.coef_)\n",
    "#print(reg.intercept_)\n",
    "y_pred = knn_reg.predict(X)\n",
    "print(\"Mean squared error: %.2f\" % mean_squared_error(y, y_pred))\n",
    "print(\"Coefficient of determination: %.3f\" % r2_score(y, y_pred))"
   ]
  },
  {
   "cell_type": "code",
   "execution_count": null,
   "metadata": {},
   "outputs": [],
   "source": [
    "sfs = SequentialFeatureSelector(neigh, n_features_to_select=1)\n",
    "sfs.fit(X, y)\n",
    "print(sfs.get_support())\n",
    "print(sfs.get_feature_names_out())"
   ]
  },
  {
   "cell_type": "code",
   "execution_count": null,
   "metadata": {},
   "outputs": [],
   "source": [
    "df = pd.read_csv(\"ISL_DataSets\\Boston.csv\")\n",
    "X = df.drop(columns=['s_no','medv'])\n",
    "y = df[['medv']]\n",
    "sfs = SequentialFeatureSelector(neigh, direction='forward',n_features_to_select=5)\n",
    "sfs.fit(X, y)\n",
    "print(sfs.get_feature_names_out())"
   ]
  },
  {
   "cell_type": "code",
   "execution_count": null,
   "metadata": {},
   "outputs": [],
   "source": [
    "sfs = SequentialFeatureSelector(neigh, direction='backward',n_features_to_select=5)\n",
    "sfs.fit(X, y)\n",
    "print(sfs.get_feature_names_out())"
   ]
  }
 ],
 "metadata": {
  "kernelspec": {
   "display_name": "Python 3.8.5 64-bit",
   "language": "python",
   "name": "python3"
  },
  "language_info": {
   "codemirror_mode": {
    "name": "ipython",
    "version": 3
   },
   "file_extension": ".py",
   "mimetype": "text/x-python",
   "name": "python",
   "nbconvert_exporter": "python",
   "pygments_lexer": "ipython3",
   "version": "3.8.5 (default, Sep  3 2020, 21:29:08) [MSC v.1916 64 bit (AMD64)]"
  },
  "orig_nbformat": 4,
  "vscode": {
   "interpreter": {
    "hash": "5e9236c168fd9c5a2497735f30867c8b2a4981b493523b82ffb7e802a066bea3"
   }
  }
 },
 "nbformat": 4,
 "nbformat_minor": 2
}

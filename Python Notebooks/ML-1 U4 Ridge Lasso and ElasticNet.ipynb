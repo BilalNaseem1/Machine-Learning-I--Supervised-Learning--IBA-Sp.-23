{
 "cells": [
  {
   "cell_type": "code",
   "execution_count": 58,
   "metadata": {},
   "outputs": [],
   "source": [
    "import pandas as pd\n",
    "from sklearn.linear_model import Lasso\n",
    "from sklearn.linear_model import Ridge\n",
    "from sklearn.linear_model import LinearRegression"
   ]
  },
  {
   "cell_type": "code",
   "execution_count": 59,
   "metadata": {},
   "outputs": [],
   "source": [
    "from sklearn.model_selection import train_test_split\n",
    "from sklearn.metrics import mean_squared_error, r2_score"
   ]
  },
  {
   "cell_type": "code",
   "execution_count": 60,
   "metadata": {},
   "outputs": [],
   "source": [
    "pd.set_option('display.float_format', lambda x: '%.3f' % x)"
   ]
  },
  {
   "attachments": {},
   "cell_type": "markdown",
   "metadata": {},
   "source": [
    "the code and data manipulation from the previous lecture"
   ]
  },
  {
   "cell_type": "code",
   "execution_count": 61,
   "metadata": {},
   "outputs": [],
   "source": [
    "df2 = pd.read_excel(\"DMforBA_DataSets\\ToyotaCorolla.xls\")\n",
    "df2 = df2.loc[:, df2.columns != 'Id']\n",
    "df = df2[['Price', 'Age_08_04', 'KM', 'Fuel_Type', 'Automatic', 'Gears']]\n",
    "\n",
    "df_onehot = pd.get_dummies(df)\n",
    "df_dummy = pd.get_dummies(df,drop_first=True)\n",
    "\n",
    "X = df_dummy.loc[:, df_dummy.columns != 'Price']\n",
    "y = df_dummy[['Price']]\n",
    "X2 = df_onehot.loc[:, df_onehot.columns != 'Price']\n",
    "y2 = df_onehot[['Price']]\n"
   ]
  },
  {
   "cell_type": "code",
   "execution_count": 62,
   "metadata": {},
   "outputs": [],
   "source": [
    "R2_list = []\n",
    "MSE_list = []\n",
    "model_list = []\n",
    "combined = pd.DataFrame()"
   ]
  },
  {
   "cell_type": "markdown",
   "metadata": {},
   "source": [
    "Linear Regression"
   ]
  },
  {
   "cell_type": "code",
   "execution_count": 63,
   "metadata": {},
   "outputs": [
    {
     "name": "stdout",
     "output_type": "stream",
     "text": [
      "R2 =  0.7999180233065606 MSE =  2630219.907097417\n"
     ]
    },
    {
     "data": {
      "text/html": [
       "<div><div id=ecd9ae0b-b557-4340-9714-2df7bb84a301 style=\"display:none; background-color:#9D6CFF; color:white; width:200px; height:30px; padding-left:5px; border-radius:4px; flex-direction:row; justify-content:space-around; align-items:center;\" onmouseover=\"this.style.backgroundColor='#BA9BF8'\" onmouseout=\"this.style.backgroundColor='#9D6CFF'\" onclick=\"window.commands?.execute('create-mitosheet-from-dataframe-output');\">See Full Dataframe in Mito</div> <script> if (window.commands.hasCommand('create-mitosheet-from-dataframe-output')) document.getElementById('ecd9ae0b-b557-4340-9714-2df7bb84a301').style.display = 'flex' </script> <table border=\"1\" class=\"dataframe\">\n",
       "  <thead>\n",
       "    <tr style=\"text-align: right;\">\n",
       "      <th></th>\n",
       "      <th>variables</th>\n",
       "      <th>coefficients</th>\n",
       "    </tr>\n",
       "  </thead>\n",
       "  <tbody>\n",
       "    <tr>\n",
       "      <th>0</th>\n",
       "      <td>Age_08_04</td>\n",
       "      <td>-149.369</td>\n",
       "    </tr>\n",
       "    <tr>\n",
       "      <th>1</th>\n",
       "      <td>KM</td>\n",
       "      <td>-0.020</td>\n",
       "    </tr>\n",
       "    <tr>\n",
       "      <th>2</th>\n",
       "      <td>Automatic</td>\n",
       "      <td>843.167</td>\n",
       "    </tr>\n",
       "    <tr>\n",
       "      <th>3</th>\n",
       "      <td>Gears</td>\n",
       "      <td>1361.139</td>\n",
       "    </tr>\n",
       "    <tr>\n",
       "      <th>4</th>\n",
       "      <td>Fuel_Type_Diesel</td>\n",
       "      <td>883.703</td>\n",
       "    </tr>\n",
       "    <tr>\n",
       "      <th>5</th>\n",
       "      <td>Fuel_Type_Petrol</td>\n",
       "      <td>56.591</td>\n",
       "    </tr>\n",
       "  </tbody>\n",
       "</table></div>"
      ],
      "text/plain": [
       "          variables  coefficients\n",
       "0         Age_08_04      -149.369\n",
       "1                KM        -0.020\n",
       "2         Automatic       843.167\n",
       "3             Gears      1361.139\n",
       "4  Fuel_Type_Diesel       883.703\n",
       "5  Fuel_Type_Petrol        56.591"
      ]
     },
     "execution_count": 63,
     "metadata": {},
     "output_type": "execute_result"
    }
   ],
   "source": [
    "cols = []\n",
    "coeff = []\n",
    "reg2 = LinearRegression().fit(X, y)\n",
    "y_pred = reg2.predict(X)\n",
    "print(\"R2 = \",reg2.score(X,y), \"MSE = \", mean_squared_error(y, y_pred))\n",
    "R2_list.append(reg2.score(X,y))\n",
    "MSE_list.append(mean_squared_error(y, y_pred))\n",
    "model_list.append('Linear Reg')\n",
    "for c in reg2.coef_[0]:    \n",
    "    coeff.append(c)\n",
    "for names in X.columns:\n",
    "    cols.append(names)\n",
    "\n",
    "coeff_df = pd.DataFrame(\n",
    "    {'variables': cols,\n",
    "     'coefficients': coeff\n",
    "    })\n",
    "combined['Reg'] = coeff\n",
    "coeff_df.head(10)"
   ]
  },
  {
   "cell_type": "code",
   "execution_count": 64,
   "metadata": {},
   "outputs": [
    {
     "data": {
      "text/plain": [
       "array([-1.49369159e+02, -2.00753597e-02,  8.43166547e+02,  1.36113905e+03,\n",
       "        8.83703311e+02,  5.65914717e+01])"
      ]
     },
     "execution_count": 64,
     "metadata": {},
     "output_type": "execute_result"
    }
   ],
   "source": [
    "reg2.coef_[0]"
   ]
  },
  {
   "attachments": {},
   "cell_type": "markdown",
   "metadata": {},
   "source": [
    "Ridge alpha = 0.1"
   ]
  },
  {
   "cell_type": "code",
   "execution_count": 65,
   "metadata": {},
   "outputs": [
    {
     "name": "stdout",
     "output_type": "stream",
     "text": [
      "R2 =  0.799917968075741 MSE =  2630220.6331458264\n"
     ]
    },
    {
     "data": {
      "text/html": [
       "<div><div id=d9333f1e-b4e9-4c9f-b19e-4cc48884297b style=\"display:none; background-color:#9D6CFF; color:white; width:200px; height:30px; padding-left:5px; border-radius:4px; flex-direction:row; justify-content:space-around; align-items:center;\" onmouseover=\"this.style.backgroundColor='#BA9BF8'\" onmouseout=\"this.style.backgroundColor='#9D6CFF'\" onclick=\"window.commands?.execute('create-mitosheet-from-dataframe-output');\">See Full Dataframe in Mito</div> <script> if (window.commands.hasCommand('create-mitosheet-from-dataframe-output')) document.getElementById('d9333f1e-b4e9-4c9f-b19e-4cc48884297b').style.display = 'flex' </script> <table border=\"1\" class=\"dataframe\">\n",
       "  <thead>\n",
       "    <tr style=\"text-align: right;\">\n",
       "      <th></th>\n",
       "      <th>variables</th>\n",
       "      <th>coefficients</th>\n",
       "    </tr>\n",
       "  </thead>\n",
       "  <tbody>\n",
       "    <tr>\n",
       "      <th>0</th>\n",
       "      <td>Age_08_04</td>\n",
       "      <td>-149.370</td>\n",
       "    </tr>\n",
       "    <tr>\n",
       "      <th>1</th>\n",
       "      <td>KM</td>\n",
       "      <td>-0.020</td>\n",
       "    </tr>\n",
       "    <tr>\n",
       "      <th>2</th>\n",
       "      <td>Automatic</td>\n",
       "      <td>841.744</td>\n",
       "    </tr>\n",
       "    <tr>\n",
       "      <th>3</th>\n",
       "      <td>Gears</td>\n",
       "      <td>1358.393</td>\n",
       "    </tr>\n",
       "    <tr>\n",
       "      <th>4</th>\n",
       "      <td>Fuel_Type_Diesel</td>\n",
       "      <td>877.745</td>\n",
       "    </tr>\n",
       "    <tr>\n",
       "      <th>5</th>\n",
       "      <td>Fuel_Type_Petrol</td>\n",
       "      <td>51.375</td>\n",
       "    </tr>\n",
       "  </tbody>\n",
       "</table></div>"
      ],
      "text/plain": [
       "          variables  coefficients\n",
       "0         Age_08_04      -149.370\n",
       "1                KM        -0.020\n",
       "2         Automatic       841.744\n",
       "3             Gears      1358.393\n",
       "4  Fuel_Type_Diesel       877.745\n",
       "5  Fuel_Type_Petrol        51.375"
      ]
     },
     "execution_count": 65,
     "metadata": {},
     "output_type": "execute_result"
    }
   ],
   "source": [
    "cols = []\n",
    "coeff = []\n",
    "\n",
    "reg_ridge = Ridge(alpha=0.1,fit_intercept=True).fit(X, y)\n",
    "y_pred = reg_ridge.predict(X)\n",
    "print(\"R2 = \",reg_ridge.score(X,y), \"MSE = \", mean_squared_error(y, y_pred))\n",
    "R2_list.append(reg_ridge.score(X,y))\n",
    "MSE_list.append(mean_squared_error(y, y_pred))\n",
    "model_list.append('Ridge 0.1')\n",
    "for c in reg_ridge.coef_[0]:    \n",
    "    coeff.append(c)\n",
    "for names in X.columns:\n",
    "    cols.append(names)\n",
    "\n",
    "ridge_df = pd.DataFrame(\n",
    "    {'variables': cols,\n",
    "     'coefficients': coeff\n",
    "    })\n",
    "combined['Ridge 0.1'] = coeff\n",
    "ridge_df.head(10)"
   ]
  },
  {
   "attachments": {},
   "cell_type": "markdown",
   "metadata": {},
   "source": [
    "Ridge alpha = 10"
   ]
  },
  {
   "cell_type": "code",
   "execution_count": 66,
   "metadata": {},
   "outputs": [
    {
     "name": "stdout",
     "output_type": "stream",
     "text": [
      "R2 =  0.7996616258265294 MSE =  2633590.434354556\n"
     ]
    },
    {
     "data": {
      "text/html": [
       "<div><div id=f71e6f4b-0f54-4a44-bd03-18350227dd39 style=\"display:none; background-color:#9D6CFF; color:white; width:200px; height:30px; padding-left:5px; border-radius:4px; flex-direction:row; justify-content:space-around; align-items:center;\" onmouseover=\"this.style.backgroundColor='#BA9BF8'\" onmouseout=\"this.style.backgroundColor='#9D6CFF'\" onclick=\"window.commands?.execute('create-mitosheet-from-dataframe-output');\">See Full Dataframe in Mito</div> <script> if (window.commands.hasCommand('create-mitosheet-from-dataframe-output')) document.getElementById('f71e6f4b-0f54-4a44-bd03-18350227dd39').style.display = 'flex' </script> <table border=\"1\" class=\"dataframe\">\n",
       "  <thead>\n",
       "    <tr style=\"text-align: right;\">\n",
       "      <th></th>\n",
       "      <th>variables</th>\n",
       "      <th>coefficients</th>\n",
       "    </tr>\n",
       "  </thead>\n",
       "  <tbody>\n",
       "    <tr>\n",
       "      <th>0</th>\n",
       "      <td>Age_08_04</td>\n",
       "      <td>-149.553</td>\n",
       "    </tr>\n",
       "    <tr>\n",
       "      <th>1</th>\n",
       "      <td>KM</td>\n",
       "      <td>-0.020</td>\n",
       "    </tr>\n",
       "    <tr>\n",
       "      <th>2</th>\n",
       "      <td>Automatic</td>\n",
       "      <td>723.287</td>\n",
       "    </tr>\n",
       "    <tr>\n",
       "      <th>3</th>\n",
       "      <td>Gears</td>\n",
       "      <td>1126.784</td>\n",
       "    </tr>\n",
       "    <tr>\n",
       "      <th>4</th>\n",
       "      <td>Fuel_Type_Diesel</td>\n",
       "      <td>598.164</td>\n",
       "    </tr>\n",
       "    <tr>\n",
       "      <th>5</th>\n",
       "      <td>Fuel_Type_Petrol</td>\n",
       "      <td>-167.510</td>\n",
       "    </tr>\n",
       "  </tbody>\n",
       "</table></div>"
      ],
      "text/plain": [
       "          variables  coefficients\n",
       "0         Age_08_04      -149.553\n",
       "1                KM        -0.020\n",
       "2         Automatic       723.287\n",
       "3             Gears      1126.784\n",
       "4  Fuel_Type_Diesel       598.164\n",
       "5  Fuel_Type_Petrol      -167.510"
      ]
     },
     "execution_count": 66,
     "metadata": {},
     "output_type": "execute_result"
    }
   ],
   "source": [
    "cols = []\n",
    "coeff = []\n",
    "\n",
    "reg_ridge = Ridge(alpha=10).fit(X, y)\n",
    "y_pred = reg_ridge.predict(X)\n",
    "print(\"R2 = \",reg_ridge.score(X,y), \"MSE = \", mean_squared_error(y, y_pred))\n",
    "R2_list.append(reg_ridge.score(X,y))\n",
    "MSE_list.append(mean_squared_error(y, y_pred))\n",
    "model_list.append('Ridge 10')\n",
    "for c in reg_ridge.coef_[0]:    \n",
    "    coeff.append(c)\n",
    "for names in X.columns:\n",
    "    cols.append(names)\n",
    "\n",
    "ridge_df = pd.DataFrame(\n",
    "    {'variables': cols,\n",
    "     'coefficients': coeff\n",
    "    })\n",
    "combined['Ridge 10'] = coeff\n",
    "ridge_df.head(10)"
   ]
  },
  {
   "attachments": {},
   "cell_type": "markdown",
   "metadata": {},
   "source": [
    "Ridge alpha = 100"
   ]
  },
  {
   "cell_type": "code",
   "execution_count": 67,
   "metadata": {},
   "outputs": [
    {
     "name": "stdout",
     "output_type": "stream",
     "text": [
      "R2 =  0.796301697096137 MSE =  2677759.0875193896\n"
     ]
    },
    {
     "data": {
      "text/html": [
       "<div><div id=5a727443-5fdb-4cba-84d4-650d44c7035e style=\"display:none; background-color:#9D6CFF; color:white; width:200px; height:30px; padding-left:5px; border-radius:4px; flex-direction:row; justify-content:space-around; align-items:center;\" onmouseover=\"this.style.backgroundColor='#BA9BF8'\" onmouseout=\"this.style.backgroundColor='#9D6CFF'\" onclick=\"window.commands?.execute('create-mitosheet-from-dataframe-output');\">See Full Dataframe in Mito</div> <script> if (window.commands.hasCommand('create-mitosheet-from-dataframe-output')) document.getElementById('5a727443-5fdb-4cba-84d4-650d44c7035e').style.display = 'flex' </script> <table border=\"1\" class=\"dataframe\">\n",
       "  <thead>\n",
       "    <tr style=\"text-align: right;\">\n",
       "      <th></th>\n",
       "      <th>variables</th>\n",
       "      <th>coefficients</th>\n",
       "    </tr>\n",
       "  </thead>\n",
       "  <tbody>\n",
       "    <tr>\n",
       "      <th>0</th>\n",
       "      <td>Age_08_04</td>\n",
       "      <td>-150.949</td>\n",
       "    </tr>\n",
       "    <tr>\n",
       "      <th>1</th>\n",
       "      <td>KM</td>\n",
       "      <td>-0.019</td>\n",
       "    </tr>\n",
       "    <tr>\n",
       "      <th>2</th>\n",
       "      <td>Automatic</td>\n",
       "      <td>322.729</td>\n",
       "    </tr>\n",
       "    <tr>\n",
       "      <th>3</th>\n",
       "      <td>Gears</td>\n",
       "      <td>430.708</td>\n",
       "    </tr>\n",
       "    <tr>\n",
       "      <th>4</th>\n",
       "      <td>Fuel_Type_Diesel</td>\n",
       "      <td>285.397</td>\n",
       "    </tr>\n",
       "    <tr>\n",
       "      <th>5</th>\n",
       "      <td>Fuel_Type_Petrol</td>\n",
       "      <td>-211.201</td>\n",
       "    </tr>\n",
       "  </tbody>\n",
       "</table></div>"
      ],
      "text/plain": [
       "          variables  coefficients\n",
       "0         Age_08_04      -150.949\n",
       "1                KM        -0.019\n",
       "2         Automatic       322.729\n",
       "3             Gears       430.708\n",
       "4  Fuel_Type_Diesel       285.397\n",
       "5  Fuel_Type_Petrol      -211.201"
      ]
     },
     "execution_count": 67,
     "metadata": {},
     "output_type": "execute_result"
    }
   ],
   "source": [
    "cols = []\n",
    "coeff = []\n",
    "\n",
    "reg_ridge = Ridge(alpha=100).fit(X, y)\n",
    "y_pred = reg_ridge.predict(X)\n",
    "print(\"R2 = \",reg_ridge.score(X,y), \"MSE = \", mean_squared_error(y, y_pred))\n",
    "R2_list.append(reg_ridge.score(X,y))\n",
    "MSE_list.append(mean_squared_error(y, y_pred))\n",
    "model_list.append('Ridge 100')\n",
    "for c in reg_ridge.coef_[0]:    \n",
    "    coeff.append(c)\n",
    "for names in X.columns:\n",
    "    cols.append(names)\n",
    "\n",
    "ridge_df = pd.DataFrame(\n",
    "    {'variables': cols,\n",
    "     'coefficients': coeff\n",
    "    })\n",
    "combined['Ridge 100'] = coeff\n",
    "ridge_df.head(10)"
   ]
  },
  {
   "attachments": {},
   "cell_type": "markdown",
   "metadata": {},
   "source": [
    "Lasso alpha = 0.1"
   ]
  },
  {
   "cell_type": "code",
   "execution_count": 68,
   "metadata": {},
   "outputs": [
    {
     "name": "stdout",
     "output_type": "stream",
     "text": [
      "R2 =  0.7999177191690904 MSE =  2630223.9052008027\n"
     ]
    },
    {
     "data": {
      "text/html": [
       "<div><div id=5e0f3a00-019d-4a64-aae9-fb225eecf5c1 style=\"display:none; background-color:#9D6CFF; color:white; width:200px; height:30px; padding-left:5px; border-radius:4px; flex-direction:row; justify-content:space-around; align-items:center;\" onmouseover=\"this.style.backgroundColor='#BA9BF8'\" onmouseout=\"this.style.backgroundColor='#9D6CFF'\" onclick=\"window.commands?.execute('create-mitosheet-from-dataframe-output');\">See Full Dataframe in Mito</div> <script> if (window.commands.hasCommand('create-mitosheet-from-dataframe-output')) document.getElementById('5e0f3a00-019d-4a64-aae9-fb225eecf5c1').style.display = 'flex' </script> <table border=\"1\" class=\"dataframe\">\n",
       "  <thead>\n",
       "    <tr style=\"text-align: right;\">\n",
       "      <th></th>\n",
       "      <th>variables</th>\n",
       "      <th>coefficients</th>\n",
       "    </tr>\n",
       "  </thead>\n",
       "  <tbody>\n",
       "    <tr>\n",
       "      <th>0</th>\n",
       "      <td>Age_08_04</td>\n",
       "      <td>-149.361</td>\n",
       "    </tr>\n",
       "    <tr>\n",
       "      <th>1</th>\n",
       "      <td>KM</td>\n",
       "      <td>-0.020</td>\n",
       "    </tr>\n",
       "    <tr>\n",
       "      <th>2</th>\n",
       "      <td>Automatic</td>\n",
       "      <td>840.843</td>\n",
       "    </tr>\n",
       "    <tr>\n",
       "      <th>3</th>\n",
       "      <td>Gears</td>\n",
       "      <td>1358.516</td>\n",
       "    </tr>\n",
       "    <tr>\n",
       "      <th>4</th>\n",
       "      <td>Fuel_Type_Diesel</td>\n",
       "      <td>865.899</td>\n",
       "    </tr>\n",
       "    <tr>\n",
       "      <th>5</th>\n",
       "      <td>Fuel_Type_Petrol</td>\n",
       "      <td>39.369</td>\n",
       "    </tr>\n",
       "  </tbody>\n",
       "</table></div>"
      ],
      "text/plain": [
       "          variables  coefficients\n",
       "0         Age_08_04      -149.361\n",
       "1                KM        -0.020\n",
       "2         Automatic       840.843\n",
       "3             Gears      1358.516\n",
       "4  Fuel_Type_Diesel       865.899\n",
       "5  Fuel_Type_Petrol        39.369"
      ]
     },
     "execution_count": 68,
     "metadata": {},
     "output_type": "execute_result"
    }
   ],
   "source": [
    "cols = []\n",
    "coeff = []\n",
    "\n",
    "reg_lasso = Lasso(alpha=0.1).fit(X, y)\n",
    "y_pred = reg_lasso.predict(X)\n",
    "print(\"R2 = \",reg_lasso.score(X,y), \"MSE = \", mean_squared_error(y, y_pred))\n",
    "R2_list.append(reg_lasso.score(X,y))\n",
    "MSE_list.append(mean_squared_error(y, y_pred))\n",
    "model_list.append('Lasso 0.1')\n",
    "for c in reg_lasso.coef_:    \n",
    "    coeff.append(c)\n",
    "for names in X.columns:\n",
    "    cols.append(names)\n",
    "\n",
    "lasso_df = pd.DataFrame(\n",
    "    {'variables': cols,\n",
    "     'coefficients': coeff\n",
    "    })\n",
    "combined['Lasso 0.1'] = coeff\n",
    "lasso_df.head(10)"
   ]
  },
  {
   "attachments": {},
   "cell_type": "markdown",
   "metadata": {},
   "source": [
    "Lasso alpha = 10"
   ]
  },
  {
   "cell_type": "code",
   "execution_count": 69,
   "metadata": {},
   "outputs": [
    {
     "name": "stdout",
     "output_type": "stream",
     "text": [
      "R2 =  0.7993728049815316 MSE =  2637387.1898077563\n"
     ]
    },
    {
     "data": {
      "text/html": [
       "<div><div id=35d037fd-b981-490a-9873-cc504aae6549 style=\"display:none; background-color:#9D6CFF; color:white; width:200px; height:30px; padding-left:5px; border-radius:4px; flex-direction:row; justify-content:space-around; align-items:center;\" onmouseover=\"this.style.backgroundColor='#BA9BF8'\" onmouseout=\"this.style.backgroundColor='#9D6CFF'\" onclick=\"window.commands?.execute('create-mitosheet-from-dataframe-output');\">See Full Dataframe in Mito</div> <script> if (window.commands.hasCommand('create-mitosheet-from-dataframe-output')) document.getElementById('35d037fd-b981-490a-9873-cc504aae6549').style.display = 'flex' </script> <table border=\"1\" class=\"dataframe\">\n",
       "  <thead>\n",
       "    <tr style=\"text-align: right;\">\n",
       "      <th></th>\n",
       "      <th>variables</th>\n",
       "      <th>coefficients</th>\n",
       "    </tr>\n",
       "  </thead>\n",
       "  <tbody>\n",
       "    <tr>\n",
       "      <th>0</th>\n",
       "      <td>Age_08_04</td>\n",
       "      <td>-150.182</td>\n",
       "    </tr>\n",
       "    <tr>\n",
       "      <th>1</th>\n",
       "      <td>KM</td>\n",
       "      <td>-0.019</td>\n",
       "    </tr>\n",
       "    <tr>\n",
       "      <th>2</th>\n",
       "      <td>Automatic</td>\n",
       "      <td>618.960</td>\n",
       "    </tr>\n",
       "    <tr>\n",
       "      <th>3</th>\n",
       "      <td>Gears</td>\n",
       "      <td>1038.877</td>\n",
       "    </tr>\n",
       "    <tr>\n",
       "      <th>4</th>\n",
       "      <td>Fuel_Type_Diesel</td>\n",
       "      <td>664.827</td>\n",
       "    </tr>\n",
       "    <tr>\n",
       "      <th>5</th>\n",
       "      <td>Fuel_Type_Petrol</td>\n",
       "      <td>-0.000</td>\n",
       "    </tr>\n",
       "  </tbody>\n",
       "</table></div>"
      ],
      "text/plain": [
       "          variables  coefficients\n",
       "0         Age_08_04      -150.182\n",
       "1                KM        -0.019\n",
       "2         Automatic       618.960\n",
       "3             Gears      1038.877\n",
       "4  Fuel_Type_Diesel       664.827\n",
       "5  Fuel_Type_Petrol        -0.000"
      ]
     },
     "execution_count": 69,
     "metadata": {},
     "output_type": "execute_result"
    }
   ],
   "source": [
    "cols = []\n",
    "coeff = []\n",
    "\n",
    "reg_lasso = Lasso(alpha=10).fit(X, y)\n",
    "y_pred = reg_lasso.predict(X)\n",
    "print(\"R2 = \",reg_lasso.score(X,y), \"MSE = \", mean_squared_error(y, y_pred))\n",
    "R2_list.append(reg_lasso.score(X,y))\n",
    "MSE_list.append(mean_squared_error(y, y_pred))\n",
    "model_list.append('Lasso 10')\n",
    "for c in reg_lasso.coef_:    \n",
    "    coeff.append(c)\n",
    "for names in X.columns:\n",
    "    cols.append(names)\n",
    "\n",
    "lasso_df = pd.DataFrame(\n",
    "    {'variables': cols,\n",
    "     'coefficients': coeff\n",
    "    })\n",
    "combined['Lasso 10'] = coeff\n",
    "lasso_df.head(10)"
   ]
  },
  {
   "attachments": {},
   "cell_type": "markdown",
   "metadata": {},
   "source": [
    "Lasso alpha = 100"
   ]
  },
  {
   "cell_type": "code",
   "execution_count": 70,
   "metadata": {},
   "outputs": [
    {
     "name": "stdout",
     "output_type": "stream",
     "text": [
      "R2 =  0.7899734379422133 MSE =  2760948.5555514055\n"
     ]
    },
    {
     "data": {
      "text/html": [
       "<div><div id=14a68026-35ad-4924-bd96-bd17534298a5 style=\"display:none; background-color:#9D6CFF; color:white; width:200px; height:30px; padding-left:5px; border-radius:4px; flex-direction:row; justify-content:space-around; align-items:center;\" onmouseover=\"this.style.backgroundColor='#BA9BF8'\" onmouseout=\"this.style.backgroundColor='#9D6CFF'\" onclick=\"window.commands?.execute('create-mitosheet-from-dataframe-output');\">See Full Dataframe in Mito</div> <script> if (window.commands.hasCommand('create-mitosheet-from-dataframe-output')) document.getElementById('14a68026-35ad-4924-bd96-bd17534298a5').style.display = 'flex' </script> <table border=\"1\" class=\"dataframe\">\n",
       "  <thead>\n",
       "    <tr style=\"text-align: right;\">\n",
       "      <th></th>\n",
       "      <th>variables</th>\n",
       "      <th>coefficients</th>\n",
       "    </tr>\n",
       "  </thead>\n",
       "  <tbody>\n",
       "    <tr>\n",
       "      <th>0</th>\n",
       "      <td>Age_08_04</td>\n",
       "      <td>-153.765</td>\n",
       "    </tr>\n",
       "    <tr>\n",
       "      <th>1</th>\n",
       "      <td>KM</td>\n",
       "      <td>-0.017</td>\n",
       "    </tr>\n",
       "    <tr>\n",
       "      <th>2</th>\n",
       "      <td>Automatic</td>\n",
       "      <td>0.000</td>\n",
       "    </tr>\n",
       "    <tr>\n",
       "      <th>3</th>\n",
       "      <td>Gears</td>\n",
       "      <td>0.000</td>\n",
       "    </tr>\n",
       "    <tr>\n",
       "      <th>4</th>\n",
       "      <td>Fuel_Type_Diesel</td>\n",
       "      <td>0.000</td>\n",
       "    </tr>\n",
       "    <tr>\n",
       "      <th>5</th>\n",
       "      <td>Fuel_Type_Petrol</td>\n",
       "      <td>-0.000</td>\n",
       "    </tr>\n",
       "  </tbody>\n",
       "</table></div>"
      ],
      "text/plain": [
       "          variables  coefficients\n",
       "0         Age_08_04      -153.765\n",
       "1                KM        -0.017\n",
       "2         Automatic         0.000\n",
       "3             Gears         0.000\n",
       "4  Fuel_Type_Diesel         0.000\n",
       "5  Fuel_Type_Petrol        -0.000"
      ]
     },
     "execution_count": 70,
     "metadata": {},
     "output_type": "execute_result"
    }
   ],
   "source": [
    "cols = []\n",
    "coeff = []\n",
    "\n",
    "reg_lasso = Lasso(alpha=100).fit(X, y)\n",
    "y_pred = reg_lasso.predict(X)\n",
    "print(\"R2 = \",reg_lasso.score(X,y), \"MSE = \", mean_squared_error(y, y_pred))\n",
    "R2_list.append(reg_lasso.score(X,y))\n",
    "MSE_list.append(mean_squared_error(y, y_pred))\n",
    "model_list.append('Lasso 100')\n",
    "for c in reg_lasso.coef_:    \n",
    "    coeff.append(c)\n",
    "for names in X.columns:\n",
    "    cols.append(names)\n",
    "\n",
    "lasso_df = pd.DataFrame(\n",
    "    {'variables': cols,\n",
    "     'coefficients': coeff\n",
    "    })\n",
    "combined['Lasso 100'] = coeff\n",
    "lasso_df.head(10)"
   ]
  },
  {
   "cell_type": "code",
   "execution_count": 71,
   "metadata": {},
   "outputs": [
    {
     "name": "stdout",
     "output_type": "stream",
     "text": [
      "[0.7999180233065606, 0.799917968075741, 0.7996616258265294, 0.796301697096137, 0.7999177191690904, 0.7993728049815316, 0.7899734379422133]\n",
      "Index(['Reg', 'Ridge 0.1', 'Ridge 10', 'Ridge 100', 'Lasso 0.1', 'Lasso 10',\n",
      "       'Lasso 100'],\n",
      "      dtype='object')\n"
     ]
    }
   ],
   "source": [
    "print(R2_list)\n",
    "print(combined.columns)"
   ]
  },
  {
   "cell_type": "code",
   "execution_count": 72,
   "metadata": {},
   "outputs": [
    {
     "name": "stdout",
     "output_type": "stream",
     "text": [
      "7 7\n"
     ]
    },
    {
     "data": {
      "text/html": [
       "<div><div id=bdab03bf-4770-4d00-8552-f95fa6a1ce5a style=\"display:none; background-color:#9D6CFF; color:white; width:200px; height:30px; padding-left:5px; border-radius:4px; flex-direction:row; justify-content:space-around; align-items:center;\" onmouseover=\"this.style.backgroundColor='#BA9BF8'\" onmouseout=\"this.style.backgroundColor='#9D6CFF'\" onclick=\"window.commands?.execute('create-mitosheet-from-dataframe-output');\">See Full Dataframe in Mito</div> <script> if (window.commands.hasCommand('create-mitosheet-from-dataframe-output')) document.getElementById('bdab03bf-4770-4d00-8552-f95fa6a1ce5a').style.display = 'flex' </script> <table border=\"1\" class=\"dataframe\">\n",
       "  <thead>\n",
       "    <tr style=\"text-align: right;\">\n",
       "      <th></th>\n",
       "      <th>Reg</th>\n",
       "      <th>Ridge 0.1</th>\n",
       "      <th>Ridge 10</th>\n",
       "      <th>Ridge 100</th>\n",
       "      <th>Lasso 0.1</th>\n",
       "      <th>Lasso 10</th>\n",
       "      <th>Lasso 100</th>\n",
       "      <th>Description</th>\n",
       "    </tr>\n",
       "  </thead>\n",
       "  <tbody>\n",
       "    <tr>\n",
       "      <th>0</th>\n",
       "      <td>-149.369</td>\n",
       "      <td>-149.370</td>\n",
       "      <td>-149.553</td>\n",
       "      <td>-150.949</td>\n",
       "      <td>-149.361</td>\n",
       "      <td>-150.182</td>\n",
       "      <td>-153.765</td>\n",
       "      <td>Age_08_04</td>\n",
       "    </tr>\n",
       "    <tr>\n",
       "      <th>1</th>\n",
       "      <td>-0.020</td>\n",
       "      <td>-0.020</td>\n",
       "      <td>-0.020</td>\n",
       "      <td>-0.019</td>\n",
       "      <td>-0.020</td>\n",
       "      <td>-0.019</td>\n",
       "      <td>-0.017</td>\n",
       "      <td>KM</td>\n",
       "    </tr>\n",
       "    <tr>\n",
       "      <th>2</th>\n",
       "      <td>843.167</td>\n",
       "      <td>841.744</td>\n",
       "      <td>723.287</td>\n",
       "      <td>322.729</td>\n",
       "      <td>840.843</td>\n",
       "      <td>618.960</td>\n",
       "      <td>0.000</td>\n",
       "      <td>Automatic</td>\n",
       "    </tr>\n",
       "    <tr>\n",
       "      <th>3</th>\n",
       "      <td>1361.139</td>\n",
       "      <td>1358.393</td>\n",
       "      <td>1126.784</td>\n",
       "      <td>430.708</td>\n",
       "      <td>1358.516</td>\n",
       "      <td>1038.877</td>\n",
       "      <td>0.000</td>\n",
       "      <td>Gears</td>\n",
       "    </tr>\n",
       "    <tr>\n",
       "      <th>4</th>\n",
       "      <td>883.703</td>\n",
       "      <td>877.745</td>\n",
       "      <td>598.164</td>\n",
       "      <td>285.397</td>\n",
       "      <td>865.899</td>\n",
       "      <td>664.827</td>\n",
       "      <td>0.000</td>\n",
       "      <td>Fuel_Type_Diesel</td>\n",
       "    </tr>\n",
       "    <tr>\n",
       "      <th>5</th>\n",
       "      <td>56.591</td>\n",
       "      <td>51.375</td>\n",
       "      <td>-167.510</td>\n",
       "      <td>-211.201</td>\n",
       "      <td>39.369</td>\n",
       "      <td>-0.000</td>\n",
       "      <td>-0.000</td>\n",
       "      <td>Fuel_Type_Petrol</td>\n",
       "    </tr>\n",
       "    <tr>\n",
       "      <th>6</th>\n",
       "      <td>0.800</td>\n",
       "      <td>0.800</td>\n",
       "      <td>0.800</td>\n",
       "      <td>0.796</td>\n",
       "      <td>0.800</td>\n",
       "      <td>0.799</td>\n",
       "      <td>0.790</td>\n",
       "      <td>R2</td>\n",
       "    </tr>\n",
       "    <tr>\n",
       "      <th>7</th>\n",
       "      <td>2630219.907</td>\n",
       "      <td>2630220.633</td>\n",
       "      <td>2633590.434</td>\n",
       "      <td>2677759.088</td>\n",
       "      <td>2630223.905</td>\n",
       "      <td>2637387.190</td>\n",
       "      <td>2760948.556</td>\n",
       "      <td>MSE</td>\n",
       "    </tr>\n",
       "  </tbody>\n",
       "</table></div>"
      ],
      "text/plain": [
       "          Reg   Ridge 0.1    Ridge 10   Ridge 100   Lasso 0.1    Lasso 10  \\\n",
       "0    -149.369    -149.370    -149.553    -150.949    -149.361    -150.182   \n",
       "1      -0.020      -0.020      -0.020      -0.019      -0.020      -0.019   \n",
       "2     843.167     841.744     723.287     322.729     840.843     618.960   \n",
       "3    1361.139    1358.393    1126.784     430.708    1358.516    1038.877   \n",
       "4     883.703     877.745     598.164     285.397     865.899     664.827   \n",
       "5      56.591      51.375    -167.510    -211.201      39.369      -0.000   \n",
       "6       0.800       0.800       0.800       0.796       0.800       0.799   \n",
       "7 2630219.907 2630220.633 2633590.434 2677759.088 2630223.905 2637387.190   \n",
       "\n",
       "    Lasso 100       Description  \n",
       "0    -153.765         Age_08_04  \n",
       "1      -0.017                KM  \n",
       "2       0.000         Automatic  \n",
       "3       0.000             Gears  \n",
       "4       0.000  Fuel_Type_Diesel  \n",
       "5      -0.000  Fuel_Type_Petrol  \n",
       "6       0.790                R2  \n",
       "7 2760948.556               MSE  "
      ]
     },
     "execution_count": 72,
     "metadata": {},
     "output_type": "execute_result"
    }
   ],
   "source": [
    "#combined['Columns'] = X.columns\n",
    "#combined['R2'] = R2_list\n",
    "desc_list = cols\n",
    "desc_list.append('R2')\n",
    "desc_list.append('MSE')\n",
    "\n",
    "print(len(R2_list),len(combined.columns))\n",
    "a_series = pd.Series(R2_list, index = combined.columns)\n",
    "combined = combined.append(a_series, ignore_index=True)\n",
    "#combined['MSE'] = MSE_list\n",
    "a_series = pd.Series(MSE_list, index = combined.columns)\n",
    "combined = combined.append(a_series, ignore_index=True)\n",
    "\n",
    "combined['Description'] = desc_list\n",
    "combined.head(10)"
   ]
  },
  {
   "attachments": {},
   "cell_type": "markdown",
   "metadata": {},
   "source": [
    "new unit"
   ]
  },
  {
   "cell_type": "markdown",
   "metadata": {},
   "source": [
    "reading the data and selecting features identified in the other notebook (using KNIME)"
   ]
  },
  {
   "cell_type": "code",
   "execution_count": 73,
   "metadata": {},
   "outputs": [
    {
     "data": {
      "text/html": [
       "<div><div id=be709fc5-4cbd-4bb1-8bf1-4eeb034a4928 style=\"display:none; background-color:#9D6CFF; color:white; width:200px; height:30px; padding-left:5px; border-radius:4px; flex-direction:row; justify-content:space-around; align-items:center;\" onmouseover=\"this.style.backgroundColor='#BA9BF8'\" onmouseout=\"this.style.backgroundColor='#9D6CFF'\" onclick=\"window.commands?.execute('create-mitosheet-from-dataframe-output');\">See Full Dataframe in Mito</div> <script> if (window.commands.hasCommand('create-mitosheet-from-dataframe-output')) document.getElementById('be709fc5-4cbd-4bb1-8bf1-4eeb034a4928').style.display = 'flex' </script> <table border=\"1\" class=\"dataframe\">\n",
       "  <thead>\n",
       "    <tr style=\"text-align: right;\">\n",
       "      <th></th>\n",
       "      <th>Price</th>\n",
       "      <th>Age_08_04</th>\n",
       "      <th>KM</th>\n",
       "      <th>Quarterly_Tax</th>\n",
       "      <th>Mfr_Guarantee</th>\n",
       "      <th>BOVAG_Guarantee</th>\n",
       "      <th>ABS</th>\n",
       "      <th>Airco</th>\n",
       "      <th>Metallic_Rim</th>\n",
       "    </tr>\n",
       "  </thead>\n",
       "  <tbody>\n",
       "    <tr>\n",
       "      <th>0</th>\n",
       "      <td>13500</td>\n",
       "      <td>23</td>\n",
       "      <td>46986</td>\n",
       "      <td>210</td>\n",
       "      <td>0</td>\n",
       "      <td>1</td>\n",
       "      <td>1</td>\n",
       "      <td>0</td>\n",
       "      <td>0</td>\n",
       "    </tr>\n",
       "    <tr>\n",
       "      <th>1</th>\n",
       "      <td>13750</td>\n",
       "      <td>23</td>\n",
       "      <td>72937</td>\n",
       "      <td>210</td>\n",
       "      <td>0</td>\n",
       "      <td>1</td>\n",
       "      <td>1</td>\n",
       "      <td>1</td>\n",
       "      <td>0</td>\n",
       "    </tr>\n",
       "    <tr>\n",
       "      <th>2</th>\n",
       "      <td>13950</td>\n",
       "      <td>24</td>\n",
       "      <td>41711</td>\n",
       "      <td>210</td>\n",
       "      <td>1</td>\n",
       "      <td>1</td>\n",
       "      <td>1</td>\n",
       "      <td>0</td>\n",
       "      <td>0</td>\n",
       "    </tr>\n",
       "    <tr>\n",
       "      <th>3</th>\n",
       "      <td>14950</td>\n",
       "      <td>26</td>\n",
       "      <td>48000</td>\n",
       "      <td>210</td>\n",
       "      <td>1</td>\n",
       "      <td>1</td>\n",
       "      <td>1</td>\n",
       "      <td>0</td>\n",
       "      <td>0</td>\n",
       "    </tr>\n",
       "    <tr>\n",
       "      <th>4</th>\n",
       "      <td>13750</td>\n",
       "      <td>30</td>\n",
       "      <td>38500</td>\n",
       "      <td>210</td>\n",
       "      <td>1</td>\n",
       "      <td>1</td>\n",
       "      <td>1</td>\n",
       "      <td>1</td>\n",
       "      <td>0</td>\n",
       "    </tr>\n",
       "    <tr>\n",
       "      <th>5</th>\n",
       "      <td>12950</td>\n",
       "      <td>32</td>\n",
       "      <td>61000</td>\n",
       "      <td>210</td>\n",
       "      <td>0</td>\n",
       "      <td>1</td>\n",
       "      <td>1</td>\n",
       "      <td>1</td>\n",
       "      <td>0</td>\n",
       "    </tr>\n",
       "    <tr>\n",
       "      <th>6</th>\n",
       "      <td>16900</td>\n",
       "      <td>27</td>\n",
       "      <td>94612</td>\n",
       "      <td>210</td>\n",
       "      <td>0</td>\n",
       "      <td>1</td>\n",
       "      <td>1</td>\n",
       "      <td>1</td>\n",
       "      <td>0</td>\n",
       "    </tr>\n",
       "    <tr>\n",
       "      <th>7</th>\n",
       "      <td>18600</td>\n",
       "      <td>30</td>\n",
       "      <td>75889</td>\n",
       "      <td>210</td>\n",
       "      <td>1</td>\n",
       "      <td>1</td>\n",
       "      <td>1</td>\n",
       "      <td>1</td>\n",
       "      <td>0</td>\n",
       "    </tr>\n",
       "    <tr>\n",
       "      <th>8</th>\n",
       "      <td>21500</td>\n",
       "      <td>27</td>\n",
       "      <td>19700</td>\n",
       "      <td>100</td>\n",
       "      <td>0</td>\n",
       "      <td>1</td>\n",
       "      <td>1</td>\n",
       "      <td>1</td>\n",
       "      <td>1</td>\n",
       "    </tr>\n",
       "    <tr>\n",
       "      <th>9</th>\n",
       "      <td>12950</td>\n",
       "      <td>23</td>\n",
       "      <td>71138</td>\n",
       "      <td>185</td>\n",
       "      <td>0</td>\n",
       "      <td>1</td>\n",
       "      <td>1</td>\n",
       "      <td>1</td>\n",
       "      <td>0</td>\n",
       "    </tr>\n",
       "  </tbody>\n",
       "</table></div>"
      ],
      "text/plain": [
       "   Price  Age_08_04     KM  Quarterly_Tax  Mfr_Guarantee  BOVAG_Guarantee  \\\n",
       "0  13500         23  46986            210              0                1   \n",
       "1  13750         23  72937            210              0                1   \n",
       "2  13950         24  41711            210              1                1   \n",
       "3  14950         26  48000            210              1                1   \n",
       "4  13750         30  38500            210              1                1   \n",
       "5  12950         32  61000            210              0                1   \n",
       "6  16900         27  94612            210              0                1   \n",
       "7  18600         30  75889            210              1                1   \n",
       "8  21500         27  19700            100              0                1   \n",
       "9  12950         23  71138            185              0                1   \n",
       "\n",
       "   ABS  Airco  Metallic_Rim  \n",
       "0    1      0             0  \n",
       "1    1      1             0  \n",
       "2    1      0             0  \n",
       "3    1      0             0  \n",
       "4    1      1             0  \n",
       "5    1      1             0  \n",
       "6    1      1             0  \n",
       "7    1      1             0  \n",
       "8    1      1             1  \n",
       "9    1      1             0  "
      ]
     },
     "metadata": {},
     "output_type": "display_data"
    }
   ],
   "source": [
    "#df = pd.read_csv(\"IML_DataSets\\Adult.csv\")\n",
    "df2 = pd.read_excel(\"DMforBA_DataSets\\ToyotaCorolla.xls\")\n",
    "df2 = df2.loc[:, df2.columns != 'Id']\n",
    "df = df2[['Price', 'Age_08_04', 'KM', 'Quarterly_Tax', 'Mfr_Guarantee',\n",
    "          'BOVAG_Guarantee', 'ABS','Airco', 'Metallic_Rim']]\n",
    "X = df.loc[:, df.columns != 'Price']\n",
    "y = df[['Price']]\n",
    "display(df.head(10))"
   ]
  },
  {
   "cell_type": "code",
   "execution_count": 74,
   "metadata": {},
   "outputs": [],
   "source": [
    "from sklearn.model_selection import KFold\n",
    "from sklearn.model_selection import cross_val_score\n",
    "from numpy import mean\n"
   ]
  },
  {
   "cell_type": "code",
   "execution_count": 75,
   "metadata": {},
   "outputs": [],
   "source": [
    "#pd.set_option('display.float_format', lambda x: '%.3f' % x)\n",
    "#Set the display format to be scientific for ease of analysis\n",
    "pd.options.display.float_format = '{:,.4g}'.format"
   ]
  },
  {
   "cell_type": "code",
   "execution_count": 76,
   "metadata": {},
   "outputs": [],
   "source": [
    "R2_list = []\n",
    "MSE_list = []\n",
    "model_list = []\n",
    "combined = pd.DataFrame()"
   ]
  },
  {
   "cell_type": "markdown",
   "metadata": {},
   "source": [
    "running linear regression for comparison purposes"
   ]
  },
  {
   "cell_type": "code",
   "execution_count": 77,
   "metadata": {},
   "outputs": [
    {
     "name": "stdout",
     "output_type": "stream",
     "text": [
      "R2 = 0.8234 and MSE = 2321593.64\n"
     ]
    },
    {
     "data": {
      "text/html": [
       "<div><div id=e7ff2a34-bee9-4138-9b70-3439ff054c97 style=\"display:none; background-color:#9D6CFF; color:white; width:200px; height:30px; padding-left:5px; border-radius:4px; flex-direction:row; justify-content:space-around; align-items:center;\" onmouseover=\"this.style.backgroundColor='#BA9BF8'\" onmouseout=\"this.style.backgroundColor='#9D6CFF'\" onclick=\"window.commands?.execute('create-mitosheet-from-dataframe-output');\">See Full Dataframe in Mito</div> <script> if (window.commands.hasCommand('create-mitosheet-from-dataframe-output')) document.getElementById('e7ff2a34-bee9-4138-9b70-3439ff054c97').style.display = 'flex' </script> <table border=\"1\" class=\"dataframe\">\n",
       "  <thead>\n",
       "    <tr style=\"text-align: right;\">\n",
       "      <th></th>\n",
       "      <th>variables</th>\n",
       "      <th>coefficients</th>\n",
       "    </tr>\n",
       "  </thead>\n",
       "  <tbody>\n",
       "    <tr>\n",
       "      <th>0</th>\n",
       "      <td>Age_08_04</td>\n",
       "      <td>-138.7</td>\n",
       "    </tr>\n",
       "    <tr>\n",
       "      <th>1</th>\n",
       "      <td>KM</td>\n",
       "      <td>-0.02345</td>\n",
       "    </tr>\n",
       "    <tr>\n",
       "      <th>2</th>\n",
       "      <td>Quarterly_Tax</td>\n",
       "      <td>12.33</td>\n",
       "    </tr>\n",
       "    <tr>\n",
       "      <th>3</th>\n",
       "      <td>Mfr_Guarantee</td>\n",
       "      <td>221.9</td>\n",
       "    </tr>\n",
       "    <tr>\n",
       "      <th>4</th>\n",
       "      <td>BOVAG_Guarantee</td>\n",
       "      <td>224.3</td>\n",
       "    </tr>\n",
       "    <tr>\n",
       "      <th>5</th>\n",
       "      <td>ABS</td>\n",
       "      <td>-689.1</td>\n",
       "    </tr>\n",
       "    <tr>\n",
       "      <th>6</th>\n",
       "      <td>Airco</td>\n",
       "      <td>684</td>\n",
       "    </tr>\n",
       "    <tr>\n",
       "      <th>7</th>\n",
       "      <td>Metallic_Rim</td>\n",
       "      <td>542.4</td>\n",
       "    </tr>\n",
       "  </tbody>\n",
       "</table></div>"
      ],
      "text/plain": [
       "         variables  coefficients\n",
       "0        Age_08_04        -138.7\n",
       "1               KM      -0.02345\n",
       "2    Quarterly_Tax         12.33\n",
       "3    Mfr_Guarantee         221.9\n",
       "4  BOVAG_Guarantee         224.3\n",
       "5              ABS        -689.1\n",
       "6            Airco           684\n",
       "7     Metallic_Rim         542.4"
      ]
     },
     "execution_count": 77,
     "metadata": {},
     "output_type": "execute_result"
    }
   ],
   "source": [
    "cols = []\n",
    "coeff = []\n",
    "reg2 = LinearRegression().fit(X, y)\n",
    "y_pred = reg2.predict(X)\n",
    "print(\"R2 = %.4f and MSE = %.2f\" % (reg2.score(X,y), mean_squared_error(y, y_pred)))\n",
    "R2_list.append(reg2.score(X,y))\n",
    "MSE_list.append(mean_squared_error(y, y_pred))\n",
    "model_list.append('Linear Reg')\n",
    "for c in reg2.coef_[0]:    \n",
    "    coeff.append(c)\n",
    "for names in X.columns:\n",
    "    cols.append(names)\n",
    "\n",
    "coeff_df = pd.DataFrame(\n",
    "    {'variables': cols,\n",
    "     'coefficients': coeff\n",
    "    })\n",
    "combined['Reg'] = coeff\n",
    "coeff_df.head(10)"
   ]
  },
  {
   "cell_type": "markdown",
   "metadata": {},
   "source": [
    "Running Ridge for different values of alpha {0.1, 10, 100}"
   ]
  },
  {
   "cell_type": "code",
   "execution_count": 78,
   "metadata": {},
   "outputs": [],
   "source": [
    "from sklearn.preprocessing import MinMaxScaler"
   ]
  },
  {
   "cell_type": "code",
   "execution_count": 79,
   "metadata": {},
   "outputs": [],
   "source": [
    "scaler = MinMaxScaler(feature_range=(0, 1))\n",
    "X_Scaled = scaler.fit_transform(X)\n",
    "XS = pd.DataFrame(X_Scaled)\n",
    "XS.columns = X.columns\n",
    "\n",
    "#we are not using it in the further analysis to compare the coefficients, otherwise need to replace\n",
    "# X with XS in the subsequent code"
   ]
  },
  {
   "cell_type": "markdown",
   "metadata": {},
   "source": [
    "Ridge regression using alpha=0.1"
   ]
  },
  {
   "cell_type": "code",
   "execution_count": 80,
   "metadata": {},
   "outputs": [
    {
     "name": "stdout",
     "output_type": "stream",
     "text": [
      "R2 = 0.8234 and MSE = 2321593.69\n"
     ]
    },
    {
     "data": {
      "text/html": [
       "<div><div id=d6814645-ecf2-4c02-ae2d-92cbc7f8c529 style=\"display:none; background-color:#9D6CFF; color:white; width:200px; height:30px; padding-left:5px; border-radius:4px; flex-direction:row; justify-content:space-around; align-items:center;\" onmouseover=\"this.style.backgroundColor='#BA9BF8'\" onmouseout=\"this.style.backgroundColor='#9D6CFF'\" onclick=\"window.commands?.execute('create-mitosheet-from-dataframe-output');\">See Full Dataframe in Mito</div> <script> if (window.commands.hasCommand('create-mitosheet-from-dataframe-output')) document.getElementById('d6814645-ecf2-4c02-ae2d-92cbc7f8c529').style.display = 'flex' </script> <table border=\"1\" class=\"dataframe\">\n",
       "  <thead>\n",
       "    <tr style=\"text-align: right;\">\n",
       "      <th></th>\n",
       "      <th>variables</th>\n",
       "      <th>coefficients</th>\n",
       "    </tr>\n",
       "  </thead>\n",
       "  <tbody>\n",
       "    <tr>\n",
       "      <th>0</th>\n",
       "      <td>Age_08_04</td>\n",
       "      <td>-138.7</td>\n",
       "    </tr>\n",
       "    <tr>\n",
       "      <th>1</th>\n",
       "      <td>KM</td>\n",
       "      <td>-0.02345</td>\n",
       "    </tr>\n",
       "    <tr>\n",
       "      <th>2</th>\n",
       "      <td>Quarterly_Tax</td>\n",
       "      <td>12.33</td>\n",
       "    </tr>\n",
       "    <tr>\n",
       "      <th>3</th>\n",
       "      <td>Mfr_Guarantee</td>\n",
       "      <td>221.8</td>\n",
       "    </tr>\n",
       "    <tr>\n",
       "      <th>4</th>\n",
       "      <td>BOVAG_Guarantee</td>\n",
       "      <td>224.1</td>\n",
       "    </tr>\n",
       "    <tr>\n",
       "      <th>5</th>\n",
       "      <td>ABS</td>\n",
       "      <td>-688.7</td>\n",
       "    </tr>\n",
       "    <tr>\n",
       "      <th>6</th>\n",
       "      <td>Airco</td>\n",
       "      <td>683.8</td>\n",
       "    </tr>\n",
       "    <tr>\n",
       "      <th>7</th>\n",
       "      <td>Metallic_Rim</td>\n",
       "      <td>542.3</td>\n",
       "    </tr>\n",
       "  </tbody>\n",
       "</table></div>"
      ],
      "text/plain": [
       "         variables  coefficients\n",
       "0        Age_08_04        -138.7\n",
       "1               KM      -0.02345\n",
       "2    Quarterly_Tax         12.33\n",
       "3    Mfr_Guarantee         221.8\n",
       "4  BOVAG_Guarantee         224.1\n",
       "5              ABS        -688.7\n",
       "6            Airco         683.8\n",
       "7     Metallic_Rim         542.3"
      ]
     },
     "execution_count": 80,
     "metadata": {},
     "output_type": "execute_result"
    }
   ],
   "source": [
    "cols = []\n",
    "coeff = []\n",
    "\n",
    "reg_ridge = Ridge(alpha=0.1,fit_intercept=True).fit(X, y)\n",
    "y_pred = reg_ridge.predict(X)\n",
    "print(\"R2 = %.4f and MSE = %.2f\" % (reg_ridge.score(X,y), mean_squared_error(y, y_pred)))\n",
    "R2_list.append(reg_ridge.score(X,y))\n",
    "MSE_list.append(mean_squared_error(y, y_pred))\n",
    "model_list.append('Ridge 0.1')\n",
    "for c in reg_ridge.coef_[0]:    \n",
    "    coeff.append(c)\n",
    "for names in XS.columns:\n",
    "    cols.append(names)\n",
    "\n",
    "ridge_df = pd.DataFrame(\n",
    "    {'variables': cols,\n",
    "     'coefficients': coeff\n",
    "    })\n",
    "combined['Ridge 0.1'] = coeff\n",
    "ridge_df.head(10)"
   ]
  },
  {
   "cell_type": "markdown",
   "metadata": {},
   "source": [
    "Ridge regression using alpa=10"
   ]
  },
  {
   "cell_type": "code",
   "execution_count": 81,
   "metadata": {},
   "outputs": [
    {
     "name": "stdout",
     "output_type": "stream",
     "text": [
      "R2 = 0.8234 and MSE = 2321980.88\n"
     ]
    },
    {
     "data": {
      "text/html": [
       "<div><div id=7a20f079-5319-4ccb-915e-bdfc7e1f5493 style=\"display:none; background-color:#9D6CFF; color:white; width:200px; height:30px; padding-left:5px; border-radius:4px; flex-direction:row; justify-content:space-around; align-items:center;\" onmouseover=\"this.style.backgroundColor='#BA9BF8'\" onmouseout=\"this.style.backgroundColor='#9D6CFF'\" onclick=\"window.commands?.execute('create-mitosheet-from-dataframe-output');\">See Full Dataframe in Mito</div> <script> if (window.commands.hasCommand('create-mitosheet-from-dataframe-output')) document.getElementById('7a20f079-5319-4ccb-915e-bdfc7e1f5493').style.display = 'flex' </script> <table border=\"1\" class=\"dataframe\">\n",
       "  <thead>\n",
       "    <tr style=\"text-align: right;\">\n",
       "      <th></th>\n",
       "      <th>variables</th>\n",
       "      <th>coefficients</th>\n",
       "    </tr>\n",
       "  </thead>\n",
       "  <tbody>\n",
       "    <tr>\n",
       "      <th>0</th>\n",
       "      <td>Age_08_04</td>\n",
       "      <td>-138.6</td>\n",
       "    </tr>\n",
       "    <tr>\n",
       "      <th>1</th>\n",
       "      <td>KM</td>\n",
       "      <td>-0.02346</td>\n",
       "    </tr>\n",
       "    <tr>\n",
       "      <th>2</th>\n",
       "      <td>Quarterly_Tax</td>\n",
       "      <td>12.36</td>\n",
       "    </tr>\n",
       "    <tr>\n",
       "      <th>3</th>\n",
       "      <td>Mfr_Guarantee</td>\n",
       "      <td>216.5</td>\n",
       "    </tr>\n",
       "    <tr>\n",
       "      <th>4</th>\n",
       "      <td>BOVAG_Guarantee</td>\n",
       "      <td>205.1</td>\n",
       "    </tr>\n",
       "    <tr>\n",
       "      <th>5</th>\n",
       "      <td>ABS</td>\n",
       "      <td>-647</td>\n",
       "    </tr>\n",
       "    <tr>\n",
       "      <th>6</th>\n",
       "      <td>Airco</td>\n",
       "      <td>663.6</td>\n",
       "    </tr>\n",
       "    <tr>\n",
       "      <th>7</th>\n",
       "      <td>Metallic_Rim</td>\n",
       "      <td>524</td>\n",
       "    </tr>\n",
       "  </tbody>\n",
       "</table></div>"
      ],
      "text/plain": [
       "         variables  coefficients\n",
       "0        Age_08_04        -138.6\n",
       "1               KM      -0.02346\n",
       "2    Quarterly_Tax         12.36\n",
       "3    Mfr_Guarantee         216.5\n",
       "4  BOVAG_Guarantee         205.1\n",
       "5              ABS          -647\n",
       "6            Airco         663.6\n",
       "7     Metallic_Rim           524"
      ]
     },
     "execution_count": 81,
     "metadata": {},
     "output_type": "execute_result"
    }
   ],
   "source": [
    "cols = []\n",
    "coeff = []\n",
    "\n",
    "reg_ridge = Ridge(alpha=10).fit(X, y)\n",
    "y_pred = reg_ridge.predict(X)\n",
    "print(\"R2 = %.4f and MSE = %.2f\" % (reg_ridge.score(X,y), mean_squared_error(y, y_pred)))\n",
    "R2_list.append(reg_ridge.score(X,y))\n",
    "MSE_list.append(mean_squared_error(y, y_pred))\n",
    "model_list.append('Ridge 10')\n",
    "for c in reg_ridge.coef_[0]:    \n",
    "    coeff.append(c)\n",
    "for names in X.columns:\n",
    "    cols.append(names)\n",
    "\n",
    "ridge_df = pd.DataFrame(\n",
    "    {'variables': cols,\n",
    "     'coefficients': coeff\n",
    "    })\n",
    "combined['Ridge 10'] = coeff\n",
    "ridge_df.head(10)"
   ]
  },
  {
   "cell_type": "markdown",
   "metadata": {},
   "source": [
    "running Ridge using alpha=100"
   ]
  },
  {
   "cell_type": "code",
   "execution_count": 82,
   "metadata": {},
   "outputs": [
    {
     "name": "stdout",
     "output_type": "stream",
     "text": [
      "R2 = 0.8219 and MSE = 2340721.37\n"
     ]
    },
    {
     "data": {
      "text/html": [
       "<div><div id=17cab052-d97f-453a-9b89-3fc7fe333463 style=\"display:none; background-color:#9D6CFF; color:white; width:200px; height:30px; padding-left:5px; border-radius:4px; flex-direction:row; justify-content:space-around; align-items:center;\" onmouseover=\"this.style.backgroundColor='#BA9BF8'\" onmouseout=\"this.style.backgroundColor='#9D6CFF'\" onclick=\"window.commands?.execute('create-mitosheet-from-dataframe-output');\">See Full Dataframe in Mito</div> <script> if (window.commands.hasCommand('create-mitosheet-from-dataframe-output')) document.getElementById('17cab052-d97f-453a-9b89-3fc7fe333463').style.display = 'flex' </script> <table border=\"1\" class=\"dataframe\">\n",
       "  <thead>\n",
       "    <tr style=\"text-align: right;\">\n",
       "      <th></th>\n",
       "      <th>variables</th>\n",
       "      <th>coefficients</th>\n",
       "    </tr>\n",
       "  </thead>\n",
       "  <tbody>\n",
       "    <tr>\n",
       "      <th>0</th>\n",
       "      <td>Age_08_04</td>\n",
       "      <td>-138.2</td>\n",
       "    </tr>\n",
       "    <tr>\n",
       "      <th>1</th>\n",
       "      <td>KM</td>\n",
       "      <td>-0.02355</td>\n",
       "    </tr>\n",
       "    <tr>\n",
       "      <th>2</th>\n",
       "      <td>Quarterly_Tax</td>\n",
       "      <td>12.47</td>\n",
       "    </tr>\n",
       "    <tr>\n",
       "      <th>3</th>\n",
       "      <td>Mfr_Guarantee</td>\n",
       "      <td>174.4</td>\n",
       "    </tr>\n",
       "    <tr>\n",
       "      <th>4</th>\n",
       "      <td>BOVAG_Guarantee</td>\n",
       "      <td>118</td>\n",
       "    </tr>\n",
       "    <tr>\n",
       "      <th>5</th>\n",
       "      <td>ABS</td>\n",
       "      <td>-415.3</td>\n",
       "    </tr>\n",
       "    <tr>\n",
       "      <th>6</th>\n",
       "      <td>Airco</td>\n",
       "      <td>524.1</td>\n",
       "    </tr>\n",
       "    <tr>\n",
       "      <th>7</th>\n",
       "      <td>Metallic_Rim</td>\n",
       "      <td>402.8</td>\n",
       "    </tr>\n",
       "  </tbody>\n",
       "</table></div>"
      ],
      "text/plain": [
       "         variables  coefficients\n",
       "0        Age_08_04        -138.2\n",
       "1               KM      -0.02355\n",
       "2    Quarterly_Tax         12.47\n",
       "3    Mfr_Guarantee         174.4\n",
       "4  BOVAG_Guarantee           118\n",
       "5              ABS        -415.3\n",
       "6            Airco         524.1\n",
       "7     Metallic_Rim         402.8"
      ]
     },
     "execution_count": 82,
     "metadata": {},
     "output_type": "execute_result"
    }
   ],
   "source": [
    "cols = []\n",
    "coeff = []\n",
    "\n",
    "reg_ridge = Ridge(alpha=100).fit(X, y)\n",
    "y_pred = reg_ridge.predict(X)\n",
    "print(\"R2 = %.4f and MSE = %.2f\" % (reg_ridge.score(X,y), mean_squared_error(y, y_pred)))\n",
    "R2_list.append(reg_ridge.score(X,y))\n",
    "MSE_list.append(mean_squared_error(y, y_pred))\n",
    "model_list.append('Ridge 100')\n",
    "for c in reg_ridge.coef_[0]:    \n",
    "    coeff.append(c)\n",
    "for names in X.columns:\n",
    "    cols.append(names)\n",
    "\n",
    "ridge_df = pd.DataFrame(\n",
    "    {'variables': cols,\n",
    "     'coefficients': coeff\n",
    "    })\n",
    "combined['Ridge 100'] = coeff\n",
    "ridge_df.head(10)"
   ]
  },
  {
   "cell_type": "markdown",
   "metadata": {},
   "source": [
    "Running Lasso for different values of alpha {0.1, 10, 100}"
   ]
  },
  {
   "cell_type": "markdown",
   "metadata": {},
   "source": [
    "Lasso regression using alpha=0.1"
   ]
  },
  {
   "cell_type": "code",
   "execution_count": 83,
   "metadata": {},
   "outputs": [
    {
     "name": "stdout",
     "output_type": "stream",
     "text": [
      "R2 = 0.8234 and MSE = 2321593.98\n"
     ]
    },
    {
     "data": {
      "text/html": [
       "<div><div id=e5556d0b-17ab-448d-81d7-7518be7a5202 style=\"display:none; background-color:#9D6CFF; color:white; width:200px; height:30px; padding-left:5px; border-radius:4px; flex-direction:row; justify-content:space-around; align-items:center;\" onmouseover=\"this.style.backgroundColor='#BA9BF8'\" onmouseout=\"this.style.backgroundColor='#9D6CFF'\" onclick=\"window.commands?.execute('create-mitosheet-from-dataframe-output');\">See Full Dataframe in Mito</div> <script> if (window.commands.hasCommand('create-mitosheet-from-dataframe-output')) document.getElementById('e5556d0b-17ab-448d-81d7-7518be7a5202').style.display = 'flex' </script> <table border=\"1\" class=\"dataframe\">\n",
       "  <thead>\n",
       "    <tr style=\"text-align: right;\">\n",
       "      <th></th>\n",
       "      <th>variables</th>\n",
       "      <th>coefficients</th>\n",
       "    </tr>\n",
       "  </thead>\n",
       "  <tbody>\n",
       "    <tr>\n",
       "      <th>0</th>\n",
       "      <td>Age_08_04</td>\n",
       "      <td>-138.7</td>\n",
       "    </tr>\n",
       "    <tr>\n",
       "      <th>1</th>\n",
       "      <td>KM</td>\n",
       "      <td>-0.02345</td>\n",
       "    </tr>\n",
       "    <tr>\n",
       "      <th>2</th>\n",
       "      <td>Quarterly_Tax</td>\n",
       "      <td>12.33</td>\n",
       "    </tr>\n",
       "    <tr>\n",
       "      <th>3</th>\n",
       "      <td>Mfr_Guarantee</td>\n",
       "      <td>221.5</td>\n",
       "    </tr>\n",
       "    <tr>\n",
       "      <th>4</th>\n",
       "      <td>BOVAG_Guarantee</td>\n",
       "      <td>223.2</td>\n",
       "    </tr>\n",
       "    <tr>\n",
       "      <th>5</th>\n",
       "      <td>ABS</td>\n",
       "      <td>-688.1</td>\n",
       "    </tr>\n",
       "    <tr>\n",
       "      <th>6</th>\n",
       "      <td>Airco</td>\n",
       "      <td>683.6</td>\n",
       "    </tr>\n",
       "    <tr>\n",
       "      <th>7</th>\n",
       "      <td>Metallic_Rim</td>\n",
       "      <td>541.9</td>\n",
       "    </tr>\n",
       "  </tbody>\n",
       "</table></div>"
      ],
      "text/plain": [
       "         variables  coefficients\n",
       "0        Age_08_04        -138.7\n",
       "1               KM      -0.02345\n",
       "2    Quarterly_Tax         12.33\n",
       "3    Mfr_Guarantee         221.5\n",
       "4  BOVAG_Guarantee         223.2\n",
       "5              ABS        -688.1\n",
       "6            Airco         683.6\n",
       "7     Metallic_Rim         541.9"
      ]
     },
     "execution_count": 83,
     "metadata": {},
     "output_type": "execute_result"
    }
   ],
   "source": [
    "cols = []\n",
    "coeff = []\n",
    "\n",
    "reg_lasso = Lasso(alpha=0.1).fit(X, y)\n",
    "y_pred = reg_lasso.predict(X)\n",
    "print(\"R2 = %.4f and MSE = %.2f\" % (reg_lasso.score(X,y), mean_squared_error(y, y_pred)))\n",
    "R2_list.append(reg_lasso.score(X,y))\n",
    "MSE_list.append(mean_squared_error(y, y_pred))\n",
    "model_list.append('Lasso 0.1')\n",
    "for c in reg_lasso.coef_:    \n",
    "    coeff.append(c)\n",
    "for names in X.columns:\n",
    "    cols.append(names)\n",
    "\n",
    "lasso_df = pd.DataFrame(\n",
    "    {'variables': cols,\n",
    "     'coefficients': coeff\n",
    "    })\n",
    "combined['Lasso 0.1'] = coeff\n",
    "lasso_df.head(10)"
   ]
  },
  {
   "cell_type": "markdown",
   "metadata": {},
   "source": [
    "Lasso regression using alpha=10"
   ]
  },
  {
   "cell_type": "code",
   "execution_count": 84,
   "metadata": {},
   "outputs": [
    {
     "name": "stdout",
     "output_type": "stream",
     "text": [
      "R2 = 0.8231 and MSE = 2324986.62\n"
     ]
    },
    {
     "data": {
      "text/html": [
       "<div><div id=9900799a-08a0-49b3-95fd-7864ab8c9dd2 style=\"display:none; background-color:#9D6CFF; color:white; width:200px; height:30px; padding-left:5px; border-radius:4px; flex-direction:row; justify-content:space-around; align-items:center;\" onmouseover=\"this.style.backgroundColor='#BA9BF8'\" onmouseout=\"this.style.backgroundColor='#9D6CFF'\" onclick=\"window.commands?.execute('create-mitosheet-from-dataframe-output');\">See Full Dataframe in Mito</div> <script> if (window.commands.hasCommand('create-mitosheet-from-dataframe-output')) document.getElementById('9900799a-08a0-49b3-95fd-7864ab8c9dd2').style.display = 'flex' </script> <table border=\"1\" class=\"dataframe\">\n",
       "  <thead>\n",
       "    <tr style=\"text-align: right;\">\n",
       "      <th></th>\n",
       "      <th>variables</th>\n",
       "      <th>coefficients</th>\n",
       "    </tr>\n",
       "  </thead>\n",
       "  <tbody>\n",
       "    <tr>\n",
       "      <th>0</th>\n",
       "      <td>Age_08_04</td>\n",
       "      <td>-138.2</td>\n",
       "    </tr>\n",
       "    <tr>\n",
       "      <th>1</th>\n",
       "      <td>KM</td>\n",
       "      <td>-0.02358</td>\n",
       "    </tr>\n",
       "    <tr>\n",
       "      <th>2</th>\n",
       "      <td>Quarterly_Tax</td>\n",
       "      <td>12.45</td>\n",
       "    </tr>\n",
       "    <tr>\n",
       "      <th>3</th>\n",
       "      <td>Mfr_Guarantee</td>\n",
       "      <td>191.1</td>\n",
       "    </tr>\n",
       "    <tr>\n",
       "      <th>4</th>\n",
       "      <td>BOVAG_Guarantee</td>\n",
       "      <td>113.6</td>\n",
       "    </tr>\n",
       "    <tr>\n",
       "      <th>5</th>\n",
       "      <td>ABS</td>\n",
       "      <td>-584</td>\n",
       "    </tr>\n",
       "    <tr>\n",
       "      <th>6</th>\n",
       "      <td>Airco</td>\n",
       "      <td>642</td>\n",
       "    </tr>\n",
       "    <tr>\n",
       "      <th>7</th>\n",
       "      <td>Metallic_Rim</td>\n",
       "      <td>492.1</td>\n",
       "    </tr>\n",
       "  </tbody>\n",
       "</table></div>"
      ],
      "text/plain": [
       "         variables  coefficients\n",
       "0        Age_08_04        -138.2\n",
       "1               KM      -0.02358\n",
       "2    Quarterly_Tax         12.45\n",
       "3    Mfr_Guarantee         191.1\n",
       "4  BOVAG_Guarantee         113.6\n",
       "5              ABS          -584\n",
       "6            Airco           642\n",
       "7     Metallic_Rim         492.1"
      ]
     },
     "execution_count": 84,
     "metadata": {},
     "output_type": "execute_result"
    }
   ],
   "source": [
    "cols = []\n",
    "coeff = []\n",
    "\n",
    "reg_lasso = Lasso(alpha=10).fit(X, y)\n",
    "y_pred = reg_lasso.predict(X)\n",
    "print(\"R2 = %.4f and MSE = %.2f\" % (reg_lasso.score(X,y), mean_squared_error(y, y_pred)))\n",
    "R2_list.append(reg_lasso.score(X,y))\n",
    "MSE_list.append(mean_squared_error(y, y_pred))\n",
    "model_list.append('Lasso 10')\n",
    "for c in reg_lasso.coef_:    \n",
    "    coeff.append(c)\n",
    "for names in X.columns:\n",
    "    cols.append(names)\n",
    "\n",
    "lasso_df = pd.DataFrame(\n",
    "    {'variables': cols,\n",
    "     'coefficients': coeff\n",
    "    })\n",
    "combined['Lasso 10'] = coeff\n",
    "lasso_df.head(10)"
   ]
  },
  {
   "cell_type": "markdown",
   "metadata": {},
   "source": [
    "Lasso regression using alpha=100"
   ]
  },
  {
   "cell_type": "code",
   "execution_count": 85,
   "metadata": {},
   "outputs": [
    {
     "name": "stdout",
     "output_type": "stream",
     "text": [
      "R2 = 0.8114 and MSE = 2479845.73\n"
     ]
    },
    {
     "data": {
      "text/html": [
       "<div><div id=4c4e3ff4-1702-46b6-a8d7-e4fd48c95b45 style=\"display:none; background-color:#9D6CFF; color:white; width:200px; height:30px; padding-left:5px; border-radius:4px; flex-direction:row; justify-content:space-around; align-items:center;\" onmouseover=\"this.style.backgroundColor='#BA9BF8'\" onmouseout=\"this.style.backgroundColor='#9D6CFF'\" onclick=\"window.commands?.execute('create-mitosheet-from-dataframe-output');\">See Full Dataframe in Mito</div> <script> if (window.commands.hasCommand('create-mitosheet-from-dataframe-output')) document.getElementById('4c4e3ff4-1702-46b6-a8d7-e4fd48c95b45').style.display = 'flex' </script> <table border=\"1\" class=\"dataframe\">\n",
       "  <thead>\n",
       "    <tr style=\"text-align: right;\">\n",
       "      <th></th>\n",
       "      <th>variables</th>\n",
       "      <th>coefficients</th>\n",
       "    </tr>\n",
       "  </thead>\n",
       "  <tbody>\n",
       "    <tr>\n",
       "      <th>0</th>\n",
       "      <td>Age_08_04</td>\n",
       "      <td>-137.6</td>\n",
       "    </tr>\n",
       "    <tr>\n",
       "      <th>1</th>\n",
       "      <td>KM</td>\n",
       "      <td>-0.02394</td>\n",
       "    </tr>\n",
       "    <tr>\n",
       "      <th>2</th>\n",
       "      <td>Quarterly_Tax</td>\n",
       "      <td>12.59</td>\n",
       "    </tr>\n",
       "    <tr>\n",
       "      <th>3</th>\n",
       "      <td>Mfr_Guarantee</td>\n",
       "      <td>0</td>\n",
       "    </tr>\n",
       "    <tr>\n",
       "      <th>4</th>\n",
       "      <td>BOVAG_Guarantee</td>\n",
       "      <td>0</td>\n",
       "    </tr>\n",
       "    <tr>\n",
       "      <th>5</th>\n",
       "      <td>ABS</td>\n",
       "      <td>-0</td>\n",
       "    </tr>\n",
       "    <tr>\n",
       "      <th>6</th>\n",
       "      <td>Airco</td>\n",
       "      <td>284.1</td>\n",
       "    </tr>\n",
       "    <tr>\n",
       "      <th>7</th>\n",
       "      <td>Metallic_Rim</td>\n",
       "      <td>10.41</td>\n",
       "    </tr>\n",
       "  </tbody>\n",
       "</table></div>"
      ],
      "text/plain": [
       "         variables  coefficients\n",
       "0        Age_08_04        -137.6\n",
       "1               KM      -0.02394\n",
       "2    Quarterly_Tax         12.59\n",
       "3    Mfr_Guarantee             0\n",
       "4  BOVAG_Guarantee             0\n",
       "5              ABS            -0\n",
       "6            Airco         284.1\n",
       "7     Metallic_Rim         10.41"
      ]
     },
     "execution_count": 85,
     "metadata": {},
     "output_type": "execute_result"
    }
   ],
   "source": [
    "cols = []\n",
    "coeff = []\n",
    "\n",
    "reg_lasso = Lasso(alpha=100).fit(X, y)\n",
    "y_pred = reg_lasso.predict(X)\n",
    "print(\"R2 = %.4f and MSE = %.2f\" % (reg_lasso.score(X,y), mean_squared_error(y, y_pred)))\n",
    "R2_list.append(reg_lasso.score(X,y))\n",
    "MSE_list.append(mean_squared_error(y, y_pred))\n",
    "model_list.append('Lasso 100')\n",
    "for c in reg_lasso.coef_:    \n",
    "    coeff.append(c)\n",
    "for names in X.columns:\n",
    "    cols.append(names)\n",
    "\n",
    "lasso_df = pd.DataFrame(\n",
    "    {'variables': cols,\n",
    "     'coefficients': coeff\n",
    "    })\n",
    "combined['Lasso 100'] = coeff\n",
    "lasso_df.head(10)"
   ]
  },
  {
   "cell_type": "markdown",
   "metadata": {},
   "source": [
    "printing a consolidated output"
   ]
  },
  {
   "cell_type": "code",
   "execution_count": 86,
   "metadata": {},
   "outputs": [
    {
     "data": {
      "text/html": [
       "<div><div id=ddf6f0fd-52e7-4b4d-bb1b-dcf8010f3e1a style=\"display:none; background-color:#9D6CFF; color:white; width:200px; height:30px; padding-left:5px; border-radius:4px; flex-direction:row; justify-content:space-around; align-items:center;\" onmouseover=\"this.style.backgroundColor='#BA9BF8'\" onmouseout=\"this.style.backgroundColor='#9D6CFF'\" onclick=\"window.commands?.execute('create-mitosheet-from-dataframe-output');\">See Full Dataframe in Mito</div> <script> if (window.commands.hasCommand('create-mitosheet-from-dataframe-output')) document.getElementById('ddf6f0fd-52e7-4b4d-bb1b-dcf8010f3e1a').style.display = 'flex' </script> <table border=\"1\" class=\"dataframe\">\n",
       "  <thead>\n",
       "    <tr style=\"text-align: right;\">\n",
       "      <th></th>\n",
       "      <th>Reg</th>\n",
       "      <th>Ridge 0.1</th>\n",
       "      <th>Ridge 10</th>\n",
       "      <th>Ridge 100</th>\n",
       "      <th>Lasso 0.1</th>\n",
       "      <th>Lasso 10</th>\n",
       "      <th>Lasso 100</th>\n",
       "      <th>Description</th>\n",
       "    </tr>\n",
       "  </thead>\n",
       "  <tbody>\n",
       "    <tr>\n",
       "      <th>0</th>\n",
       "      <td>-138.7</td>\n",
       "      <td>-138.7</td>\n",
       "      <td>-138.6</td>\n",
       "      <td>-138.2</td>\n",
       "      <td>-138.7</td>\n",
       "      <td>-138.2</td>\n",
       "      <td>-137.6</td>\n",
       "      <td>Age_08_04</td>\n",
       "    </tr>\n",
       "    <tr>\n",
       "      <th>1</th>\n",
       "      <td>-0.02345</td>\n",
       "      <td>-0.02345</td>\n",
       "      <td>-0.02346</td>\n",
       "      <td>-0.02355</td>\n",
       "      <td>-0.02345</td>\n",
       "      <td>-0.02358</td>\n",
       "      <td>-0.02394</td>\n",
       "      <td>KM</td>\n",
       "    </tr>\n",
       "    <tr>\n",
       "      <th>2</th>\n",
       "      <td>12.33</td>\n",
       "      <td>12.33</td>\n",
       "      <td>12.36</td>\n",
       "      <td>12.47</td>\n",
       "      <td>12.33</td>\n",
       "      <td>12.45</td>\n",
       "      <td>12.59</td>\n",
       "      <td>Quarterly_Tax</td>\n",
       "    </tr>\n",
       "    <tr>\n",
       "      <th>3</th>\n",
       "      <td>221.9</td>\n",
       "      <td>221.8</td>\n",
       "      <td>216.5</td>\n",
       "      <td>174.4</td>\n",
       "      <td>221.5</td>\n",
       "      <td>191.1</td>\n",
       "      <td>0</td>\n",
       "      <td>Mfr_Guarantee</td>\n",
       "    </tr>\n",
       "    <tr>\n",
       "      <th>4</th>\n",
       "      <td>224.3</td>\n",
       "      <td>224.1</td>\n",
       "      <td>205.1</td>\n",
       "      <td>118</td>\n",
       "      <td>223.2</td>\n",
       "      <td>113.6</td>\n",
       "      <td>0</td>\n",
       "      <td>BOVAG_Guarantee</td>\n",
       "    </tr>\n",
       "    <tr>\n",
       "      <th>5</th>\n",
       "      <td>-689.1</td>\n",
       "      <td>-688.7</td>\n",
       "      <td>-647</td>\n",
       "      <td>-415.3</td>\n",
       "      <td>-688.1</td>\n",
       "      <td>-584</td>\n",
       "      <td>-0</td>\n",
       "      <td>ABS</td>\n",
       "    </tr>\n",
       "    <tr>\n",
       "      <th>6</th>\n",
       "      <td>684</td>\n",
       "      <td>683.8</td>\n",
       "      <td>663.6</td>\n",
       "      <td>524.1</td>\n",
       "      <td>683.6</td>\n",
       "      <td>642</td>\n",
       "      <td>284.1</td>\n",
       "      <td>Airco</td>\n",
       "    </tr>\n",
       "    <tr>\n",
       "      <th>7</th>\n",
       "      <td>542.4</td>\n",
       "      <td>542.3</td>\n",
       "      <td>524</td>\n",
       "      <td>402.8</td>\n",
       "      <td>541.9</td>\n",
       "      <td>492.1</td>\n",
       "      <td>10.41</td>\n",
       "      <td>Metallic_Rim</td>\n",
       "    </tr>\n",
       "    <tr>\n",
       "      <th>8</th>\n",
       "      <td>0.8234</td>\n",
       "      <td>0.8234</td>\n",
       "      <td>0.8234</td>\n",
       "      <td>0.8219</td>\n",
       "      <td>0.8234</td>\n",
       "      <td>0.8231</td>\n",
       "      <td>0.8114</td>\n",
       "      <td>R2</td>\n",
       "    </tr>\n",
       "    <tr>\n",
       "      <th>9</th>\n",
       "      <td>2.322e+06</td>\n",
       "      <td>2.322e+06</td>\n",
       "      <td>2.322e+06</td>\n",
       "      <td>2.341e+06</td>\n",
       "      <td>2.322e+06</td>\n",
       "      <td>2.325e+06</td>\n",
       "      <td>2.48e+06</td>\n",
       "      <td>MSE</td>\n",
       "    </tr>\n",
       "  </tbody>\n",
       "</table></div>"
      ],
      "text/plain": [
       "        Reg  Ridge 0.1  Ridge 10  Ridge 100  Lasso 0.1  Lasso 10  Lasso 100  \\\n",
       "0    -138.7     -138.7    -138.6     -138.2     -138.7    -138.2     -137.6   \n",
       "1  -0.02345   -0.02345  -0.02346   -0.02355   -0.02345  -0.02358   -0.02394   \n",
       "2     12.33      12.33     12.36      12.47      12.33     12.45      12.59   \n",
       "3     221.9      221.8     216.5      174.4      221.5     191.1          0   \n",
       "4     224.3      224.1     205.1        118      223.2     113.6          0   \n",
       "5    -689.1     -688.7      -647     -415.3     -688.1      -584         -0   \n",
       "6       684      683.8     663.6      524.1      683.6       642      284.1   \n",
       "7     542.4      542.3       524      402.8      541.9     492.1      10.41   \n",
       "8    0.8234     0.8234    0.8234     0.8219     0.8234    0.8231     0.8114   \n",
       "9 2.322e+06  2.322e+06 2.322e+06  2.341e+06  2.322e+06 2.325e+06   2.48e+06   \n",
       "\n",
       "       Description  \n",
       "0        Age_08_04  \n",
       "1               KM  \n",
       "2    Quarterly_Tax  \n",
       "3    Mfr_Guarantee  \n",
       "4  BOVAG_Guarantee  \n",
       "5              ABS  \n",
       "6            Airco  \n",
       "7     Metallic_Rim  \n",
       "8               R2  \n",
       "9              MSE  "
      ]
     },
     "execution_count": 86,
     "metadata": {},
     "output_type": "execute_result"
    }
   ],
   "source": [
    "#combined['Columns'] = X.columns\n",
    "#combined['R2'] = R2_list\n",
    "desc_list = cols\n",
    "desc_list.append('R2')\n",
    "desc_list.append('MSE')\n",
    "\n",
    "#print(len(R2_list),len(combined.columns))\n",
    "a_series = pd.Series(R2_list, index = combined.columns)\n",
    "combined = combined.append(a_series, ignore_index=True)\n",
    "#combined['MSE'] = MSE_list\n",
    "a_series = pd.Series(MSE_list, index = combined.columns)\n",
    "combined = combined.append(a_series, ignore_index=True)\n",
    "\n",
    "combined['Description'] = desc_list\n",
    "combined.head(10)"
   ]
  },
  {
   "cell_type": "markdown",
   "metadata": {},
   "source": [
    "instead of exploring the lambda value randomly, let's do an exhaustive search within a given range."
   ]
  },
  {
   "cell_type": "code",
   "execution_count": 98,
   "metadata": {},
   "outputs": [],
   "source": [
    "from sklearn.linear_model import RidgeCV\n",
    "from sklearn.model_selection import KFold\n",
    "from sklearn.model_selection import RepeatedKFold\n",
    "from numpy import arange\n",
    "from sklearn.linear_model import LassoCV\n",
    "import warnings \n",
    "warnings.filterwarnings('ignore')"
   ]
  },
  {
   "cell_type": "code",
   "execution_count": 88,
   "metadata": {},
   "outputs": [
    {
     "data": {
      "text/plain": [
       "dict_keys(['explained_variance', 'r2', 'max_error', 'matthews_corrcoef', 'neg_median_absolute_error', 'neg_mean_absolute_error', 'neg_mean_absolute_percentage_error', 'neg_mean_squared_error', 'neg_mean_squared_log_error', 'neg_root_mean_squared_error', 'neg_mean_poisson_deviance', 'neg_mean_gamma_deviance', 'accuracy', 'top_k_accuracy', 'roc_auc', 'roc_auc_ovr', 'roc_auc_ovo', 'roc_auc_ovr_weighted', 'roc_auc_ovo_weighted', 'balanced_accuracy', 'average_precision', 'neg_log_loss', 'neg_brier_score', 'positive_likelihood_ratio', 'neg_negative_likelihood_ratio', 'adjusted_rand_score', 'rand_score', 'homogeneity_score', 'completeness_score', 'v_measure_score', 'mutual_info_score', 'adjusted_mutual_info_score', 'normalized_mutual_info_score', 'fowlkes_mallows_score', 'precision', 'precision_macro', 'precision_micro', 'precision_samples', 'precision_weighted', 'recall', 'recall_macro', 'recall_micro', 'recall_samples', 'recall_weighted', 'f1', 'f1_macro', 'f1_micro', 'f1_samples', 'f1_weighted', 'jaccard', 'jaccard_macro', 'jaccard_micro', 'jaccard_samples', 'jaccard_weighted'])"
      ]
     },
     "execution_count": 88,
     "metadata": {},
     "output_type": "execute_result"
    }
   ],
   "source": [
    "import sklearn\n",
    "sklearn.metrics.SCORERS.keys()"
   ]
  },
  {
   "cell_type": "markdown",
   "metadata": {},
   "source": [
    "searching the best lambda for Ridge regression"
   ]
  },
  {
   "cell_type": "code",
   "execution_count": 89,
   "metadata": {},
   "outputs": [
    {
     "name": "stdout",
     "output_type": "stream",
     "text": [
      "alpha: 10.500000\n",
      "0.8180096989982546\n"
     ]
    },
    {
     "data": {
      "text/plain": [
       "array([[-1.38600008e+02, -2.34636890e-02,  1.23579369e+01,\n",
       "         2.16239234e+02,  2.04216955e+02, -6.45004938e+02,\n",
       "         6.62580320e+02,  5.23152698e+02]])"
      ]
     },
     "execution_count": 89,
     "metadata": {},
     "output_type": "execute_result"
    }
   ],
   "source": [
    "# define model evaluation method\n",
    "cv = RepeatedKFold(n_splits=10, n_repeats=3, random_state=1)\n",
    "# define model\n",
    "model = RidgeCV(alphas=arange(1, 50, 0.5), cv=cv, scoring='r2')#, scoring='neg_mean_absolute_error')\n",
    "# fit model\n",
    "model.fit(X, y)\n",
    "# summarize chosen configuration\n",
    "print('alpha: %f' % model.alpha_)\n",
    "print(model.best_score_)\n",
    "model.coef_"
   ]
  },
  {
   "cell_type": "markdown",
   "metadata": {},
   "source": [
    "Searching the best lambda for Lasso regression"
   ]
  },
  {
   "cell_type": "code",
   "execution_count": 90,
   "metadata": {},
   "outputs": [
    {
     "name": "stdout",
     "output_type": "stream",
     "text": [
      "alpha: 1.000000\n",
      "0.8233927768278906\n",
      "[-1.38692037e+02 -2.34587647e-02  1.23446974e+01  2.18777326e+02\n",
      "  2.13199474e+02 -6.78607633e+02  6.79837816e+02  5.37413847e+02]\n"
     ]
    }
   ],
   "source": [
    "# define model evaluation method\n",
    "cv = RepeatedKFold(n_splits=10, n_repeats=3, random_state=1)\n",
    "# define model\n",
    "model = LassoCV(alphas=arange(1, 20, 0.5), cv=cv, max_iter=10000)\n",
    "# fit model\n",
    "model.fit(X, y)\n",
    "# summarize chosen configuration\n",
    "print('alpha: %f' % model.alpha_)\n",
    "print(model.score(X,y))\n",
    "print(model.coef_)\n",
    "\n",
    "#model.best_score_"
   ]
  },
  {
   "cell_type": "code",
   "execution_count": 91,
   "metadata": {},
   "outputs": [],
   "source": [
    "from sklearn.preprocessing import PolynomialFeatures"
   ]
  },
  {
   "cell_type": "markdown",
   "metadata": {},
   "source": [
    "using Ridge on Polynomial+Interaction features"
   ]
  },
  {
   "cell_type": "code",
   "execution_count": 99,
   "metadata": {},
   "outputs": [
    {
     "name": "stdout",
     "output_type": "stream",
     "text": [
      "0.8674983791416753\n"
     ]
    }
   ],
   "source": [
    "poly = PolynomialFeatures(2)\n",
    "reg_ridge = Ridge(alpha=10.5).fit(X, y)\n",
    "#model = RidgeCV(alphas=arange(1, 50, 0.5), cv=cv, scoring='r2')\n",
    "X2 = poly.fit_transform(X)\n",
    "X2df = pd.DataFrame(X2)\n",
    "X2df.columns = list(poly.get_feature_names_out())\n",
    "scores = cross_val_score(reg_ridge, X2df, y, cv=cv) \n",
    "print(mean(scores))"
   ]
  },
  {
   "cell_type": "code",
   "execution_count": 93,
   "metadata": {},
   "outputs": [
    {
     "data": {
      "text/plain": [
       "array(['1', 'Age_08_04', 'KM', 'Quarterly_Tax', 'Mfr_Guarantee',\n",
       "       'BOVAG_Guarantee', 'ABS', 'Airco', 'Metallic_Rim', 'Age_08_04^2',\n",
       "       'Age_08_04 KM', 'Age_08_04 Quarterly_Tax',\n",
       "       'Age_08_04 Mfr_Guarantee', 'Age_08_04 BOVAG_Guarantee',\n",
       "       'Age_08_04 ABS', 'Age_08_04 Airco', 'Age_08_04 Metallic_Rim',\n",
       "       'KM^2', 'KM Quarterly_Tax', 'KM Mfr_Guarantee',\n",
       "       'KM BOVAG_Guarantee', 'KM ABS', 'KM Airco', 'KM Metallic_Rim',\n",
       "       'Quarterly_Tax^2', 'Quarterly_Tax Mfr_Guarantee',\n",
       "       'Quarterly_Tax BOVAG_Guarantee', 'Quarterly_Tax ABS',\n",
       "       'Quarterly_Tax Airco', 'Quarterly_Tax Metallic_Rim',\n",
       "       'Mfr_Guarantee^2', 'Mfr_Guarantee BOVAG_Guarantee',\n",
       "       'Mfr_Guarantee ABS', 'Mfr_Guarantee Airco',\n",
       "       'Mfr_Guarantee Metallic_Rim', 'BOVAG_Guarantee^2',\n",
       "       'BOVAG_Guarantee ABS', 'BOVAG_Guarantee Airco',\n",
       "       'BOVAG_Guarantee Metallic_Rim', 'ABS^2', 'ABS Airco',\n",
       "       'ABS Metallic_Rim', 'Airco^2', 'Airco Metallic_Rim',\n",
       "       'Metallic_Rim^2'], dtype=object)"
      ]
     },
     "execution_count": 93,
     "metadata": {},
     "output_type": "execute_result"
    }
   ],
   "source": [
    "poly.get_feature_names_out()"
   ]
  },
  {
   "cell_type": "code",
   "execution_count": 100,
   "metadata": {},
   "outputs": [
    {
     "name": "stdout",
     "output_type": "stream",
     "text": [
      "alpha: 1.500000\n",
      "0.8784570339971559\n"
     ]
    },
    {
     "data": {
      "text/html": [
       "<div><div id=cb7b51d2-c936-4602-8bc5-7609a72a3629 style=\"display:none; background-color:#9D6CFF; color:white; width:200px; height:30px; padding-left:5px; border-radius:4px; flex-direction:row; justify-content:space-around; align-items:center;\" onmouseover=\"this.style.backgroundColor='#BA9BF8'\" onmouseout=\"this.style.backgroundColor='#9D6CFF'\" onclick=\"window.commands?.execute('create-mitosheet-from-dataframe-output');\">See Full Dataframe in Mito</div> <script> if (window.commands.hasCommand('create-mitosheet-from-dataframe-output')) document.getElementById('cb7b51d2-c936-4602-8bc5-7609a72a3629').style.display = 'flex' </script> <table border=\"1\" class=\"dataframe\">\n",
       "  <thead>\n",
       "    <tr style=\"text-align: right;\">\n",
       "      <th></th>\n",
       "      <th>variables</th>\n",
       "      <th>coefficients</th>\n",
       "    </tr>\n",
       "  </thead>\n",
       "  <tbody>\n",
       "    <tr>\n",
       "      <th>0</th>\n",
       "      <td>1</td>\n",
       "      <td>0</td>\n",
       "    </tr>\n",
       "    <tr>\n",
       "      <th>1</th>\n",
       "      <td>Age_08_04</td>\n",
       "      <td>-193.9</td>\n",
       "    </tr>\n",
       "    <tr>\n",
       "      <th>2</th>\n",
       "      <td>KM</td>\n",
       "      <td>-0.04268</td>\n",
       "    </tr>\n",
       "    <tr>\n",
       "      <th>3</th>\n",
       "      <td>Quarterly_Tax</td>\n",
       "      <td>24.99</td>\n",
       "    </tr>\n",
       "    <tr>\n",
       "      <th>4</th>\n",
       "      <td>Mfr_Guarantee</td>\n",
       "      <td>0</td>\n",
       "    </tr>\n",
       "    <tr>\n",
       "      <th>...</th>\n",
       "      <td>...</td>\n",
       "      <td>...</td>\n",
       "    </tr>\n",
       "    <tr>\n",
       "      <th>40</th>\n",
       "      <td>ABS Airco</td>\n",
       "      <td>123.5</td>\n",
       "    </tr>\n",
       "    <tr>\n",
       "      <th>41</th>\n",
       "      <td>ABS Metallic_Rim</td>\n",
       "      <td>251</td>\n",
       "    </tr>\n",
       "    <tr>\n",
       "      <th>42</th>\n",
       "      <td>Airco^2</td>\n",
       "      <td>1,572</td>\n",
       "    </tr>\n",
       "    <tr>\n",
       "      <th>43</th>\n",
       "      <td>Airco Metallic_Rim</td>\n",
       "      <td>64.46</td>\n",
       "    </tr>\n",
       "    <tr>\n",
       "      <th>44</th>\n",
       "      <td>Metallic_Rim^2</td>\n",
       "      <td>866.6</td>\n",
       "    </tr>\n",
       "  </tbody>\n",
       "</table></div>"
      ],
      "text/plain": [
       "                        variables  coefficients\n",
       "0                               1             0\n",
       "1                       Age_08_04        -193.9\n",
       "2                              KM      -0.04268\n",
       "3                   Quarterly_Tax         24.99\n",
       "4                   Mfr_Guarantee             0\n",
       "5                 BOVAG_Guarantee         196.2\n",
       "6                             ABS             0\n",
       "7                           Airco         196.2\n",
       "8                    Metallic_Rim         144.3\n",
       "9                     Age_08_04^2        0.8936\n",
       "10                   Age_08_04 KM     0.0005357\n",
       "11        Age_08_04 Quarterly_Tax       -0.3026\n",
       "12        Age_08_04 Mfr_Guarantee       -0.7295\n",
       "13      Age_08_04 BOVAG_Guarantee        -7.777\n",
       "14                  Age_08_04 ABS        -8.184\n",
       "15                Age_08_04 Airco        -13.13\n",
       "16         Age_08_04 Metallic_Rim        -20.27\n",
       "17                           KM^2     -5.43e-08\n",
       "18               KM Quarterly_Tax    -1.934e-05\n",
       "19               KM Mfr_Guarantee      0.003779\n",
       "20             KM BOVAG_Guarantee      0.004865\n",
       "21                         KM ABS     0.0003195\n",
       "22                       KM Airco     -0.004054\n",
       "23                KM Metallic_Rim    -0.0005943\n",
       "24                Quarterly_Tax^2       0.02489\n",
       "25    Quarterly_Tax Mfr_Guarantee         3.244\n",
       "26  Quarterly_Tax BOVAG_Guarantee        -6.556\n",
       "27              Quarterly_Tax ABS          1.68\n",
       "28            Quarterly_Tax Airco        -1.758\n",
       "29     Quarterly_Tax Metallic_Rim          3.39\n",
       "30                Mfr_Guarantee^2             0\n",
       "31  Mfr_Guarantee BOVAG_Guarantee        -122.9\n",
       "32              Mfr_Guarantee ABS        -66.64\n",
       "33            Mfr_Guarantee Airco         95.59\n",
       "34     Mfr_Guarantee Metallic_Rim        -134.8\n",
       "35              BOVAG_Guarantee^2         482.6\n",
       "36            BOVAG_Guarantee ABS         353.9\n",
       "37          BOVAG_Guarantee Airco            -0\n",
       "38   BOVAG_Guarantee Metallic_Rim         98.84\n",
       "39                          ABS^2             0\n",
       "40                      ABS Airco         123.5\n",
       "41               ABS Metallic_Rim           251\n",
       "42                        Airco^2         1,572\n",
       "43             Airco Metallic_Rim         64.46\n",
       "44                 Metallic_Rim^2         866.6"
      ]
     },
     "execution_count": 100,
     "metadata": {},
     "output_type": "execute_result"
    }
   ],
   "source": [
    "# define model evaluation method\n",
    "cv = RepeatedKFold(n_splits=10, n_repeats=3, random_state=1)\n",
    "# define model\n",
    "model = LassoCV(alphas=arange(1, 10, 0.5), cv=cv, max_iter=50000)\n",
    "# fit model\n",
    "model.fit(X2df, y)\n",
    "# summarize chosen configuration\n",
    "print('alpha: %f' % model.alpha_)\n",
    "print(model.score(X2df,y))\n",
    "#print(model.coef_)\n",
    "coeff = []\n",
    "cols = []\n",
    "\n",
    "for c in model.coef_:    \n",
    "    coeff.append(c)\n",
    "for names in X2df.columns:\n",
    "    cols.append(names)\n",
    "    \n",
    "lassocv_df = pd.DataFrame(\n",
    "    {'variables': cols,\n",
    "        'coefficients': coeff\n",
    "    })\n",
    "\n",
    "lassocv_df.head(50)\n"
   ]
  },
  {
   "cell_type": "code",
   "execution_count": 101,
   "metadata": {},
   "outputs": [
    {
     "name": "stdout",
     "output_type": "stream",
     "text": [
      "alpha: 1.000000\n",
      "0.8775540045034014\n"
     ]
    },
    {
     "data": {
      "text/html": [
       "<div><div id=ce4d2448-c547-43fa-968a-7a1bd8dc422e style=\"display:none; background-color:#9D6CFF; color:white; width:200px; height:30px; padding-left:5px; border-radius:4px; flex-direction:row; justify-content:space-around; align-items:center;\" onmouseover=\"this.style.backgroundColor='#BA9BF8'\" onmouseout=\"this.style.backgroundColor='#9D6CFF'\" onclick=\"window.commands?.execute('create-mitosheet-from-dataframe-output');\">See Full Dataframe in Mito</div> <script> if (window.commands.hasCommand('create-mitosheet-from-dataframe-output')) document.getElementById('ce4d2448-c547-43fa-968a-7a1bd8dc422e').style.display = 'flex' </script> <table border=\"1\" class=\"dataframe\">\n",
       "  <thead>\n",
       "    <tr style=\"text-align: right;\">\n",
       "      <th></th>\n",
       "      <th>variables</th>\n",
       "      <th>coefficients</th>\n",
       "    </tr>\n",
       "  </thead>\n",
       "  <tbody>\n",
       "    <tr>\n",
       "      <th>0</th>\n",
       "      <td>1</td>\n",
       "      <td>0</td>\n",
       "    </tr>\n",
       "    <tr>\n",
       "      <th>1</th>\n",
       "      <td>Age_08_04</td>\n",
       "      <td>-1.616e+04</td>\n",
       "    </tr>\n",
       "    <tr>\n",
       "      <th>2</th>\n",
       "      <td>KM</td>\n",
       "      <td>-6,163</td>\n",
       "    </tr>\n",
       "    <tr>\n",
       "      <th>3</th>\n",
       "      <td>Quarterly_Tax</td>\n",
       "      <td>4,418</td>\n",
       "    </tr>\n",
       "    <tr>\n",
       "      <th>4</th>\n",
       "      <td>Mfr_Guarantee</td>\n",
       "      <td>0</td>\n",
       "    </tr>\n",
       "    <tr>\n",
       "      <th>...</th>\n",
       "      <td>...</td>\n",
       "      <td>...</td>\n",
       "    </tr>\n",
       "    <tr>\n",
       "      <th>40</th>\n",
       "      <td>ABS Airco</td>\n",
       "      <td>142.4</td>\n",
       "    </tr>\n",
       "    <tr>\n",
       "      <th>41</th>\n",
       "      <td>ABS Metallic_Rim</td>\n",
       "      <td>268.6</td>\n",
       "    </tr>\n",
       "    <tr>\n",
       "      <th>42</th>\n",
       "      <td>Airco^2</td>\n",
       "      <td>1,794</td>\n",
       "    </tr>\n",
       "    <tr>\n",
       "      <th>43</th>\n",
       "      <td>Airco Metallic_Rim</td>\n",
       "      <td>76.93</td>\n",
       "    </tr>\n",
       "    <tr>\n",
       "      <th>44</th>\n",
       "      <td>Metallic_Rim^2</td>\n",
       "      <td>892.7</td>\n",
       "    </tr>\n",
       "  </tbody>\n",
       "</table></div>"
      ],
      "text/plain": [
       "                        variables  coefficients\n",
       "0                               1             0\n",
       "1                       Age_08_04    -1.616e+04\n",
       "2                              KM        -6,163\n",
       "3                   Quarterly_Tax         4,418\n",
       "4                   Mfr_Guarantee             0\n",
       "5                 BOVAG_Guarantee           250\n",
       "6                             ABS             0\n",
       "7                           Airco         19.49\n",
       "8                    Metallic_Rim         270.5\n",
       "9                     Age_08_04^2         6,352\n",
       "10                   Age_08_04 KM         5,239\n",
       "11        Age_08_04 Quarterly_Tax        -3,059\n",
       "12        Age_08_04 Mfr_Guarantee            -0\n",
       "13      Age_08_04 BOVAG_Guarantee          -236\n",
       "14                  Age_08_04 ABS          -602\n",
       "15                Age_08_04 Airco        -1,047\n",
       "16         Age_08_04 Metallic_Rim        -1,763\n",
       "17                           KM^2        -1,250\n",
       "18               KM Quarterly_Tax        -2,400\n",
       "19               KM Mfr_Guarantee         716.8\n",
       "20             KM BOVAG_Guarantee         87.83\n",
       "21                         KM ABS        -346.3\n",
       "22                       KM Airco        -1,435\n",
       "23                KM Metallic_Rim            -0\n",
       "24                Quarterly_Tax^2         2,605\n",
       "25    Quarterly_Tax Mfr_Guarantee         784.2\n",
       "26  Quarterly_Tax BOVAG_Guarantee        -939.5\n",
       "27              Quarterly_Tax ABS         540.8\n",
       "28            Quarterly_Tax Airco             0\n",
       "29     Quarterly_Tax Metallic_Rim         560.9\n",
       "30                Mfr_Guarantee^2             0\n",
       "31  Mfr_Guarantee BOVAG_Guarantee        -115.6\n",
       "32              Mfr_Guarantee ABS        -52.14\n",
       "33            Mfr_Guarantee Airco         122.4\n",
       "34     Mfr_Guarantee Metallic_Rim        -164.7\n",
       "35              BOVAG_Guarantee^2         241.4\n",
       "36            BOVAG_Guarantee ABS           398\n",
       "37          BOVAG_Guarantee Airco        -96.13\n",
       "38   BOVAG_Guarantee Metallic_Rim         122.8\n",
       "39                          ABS^2             0\n",
       "40                      ABS Airco         142.4\n",
       "41               ABS Metallic_Rim         268.6\n",
       "42                        Airco^2         1,794\n",
       "43             Airco Metallic_Rim         76.93\n",
       "44                 Metallic_Rim^2         892.7"
      ]
     },
     "execution_count": 101,
     "metadata": {},
     "output_type": "execute_result"
    }
   ],
   "source": [
    "scaler = MinMaxScaler(feature_range=(0, 1))\n",
    "X2_Scaled = scaler.fit_transform(X2df)\n",
    "X2df_Scaled = pd.DataFrame(X2_Scaled)\n",
    "X2df_Scaled.columns = X2df.columns\n",
    "\n",
    "# define model evaluation method\n",
    "cv = RepeatedKFold(n_splits=10, n_repeats=3, random_state=1)\n",
    "# define model\n",
    "model = LassoCV(alphas=arange(1, 10, 0.5), cv=cv, max_iter=50000)\n",
    "# fit model\n",
    "model.fit(X2df_Scaled, y)\n",
    "# summarize chosen configuration\n",
    "print('alpha: %f' % model.alpha_)\n",
    "print(model.score(X2df_Scaled,y))\n",
    "#print(model.coef_)\n",
    "coeff = []\n",
    "cols = []\n",
    "\n",
    "for c in model.coef_:    \n",
    "    coeff.append(c)\n",
    "for names in X2df_Scaled.columns:\n",
    "    cols.append(names)\n",
    "    \n",
    "lassocv_df = pd.DataFrame(\n",
    "    {'variables': cols,\n",
    "        'coefficients': coeff\n",
    "    })\n",
    "\n",
    "lassocv_df.head(50)"
   ]
  },
  {
   "cell_type": "code",
   "execution_count": 96,
   "metadata": {},
   "outputs": [],
   "source": [
    "from sklearn.linear_model import ElasticNetCV"
   ]
  },
  {
   "cell_type": "code",
   "execution_count": 97,
   "metadata": {},
   "outputs": [
    {
     "name": "stdout",
     "output_type": "stream",
     "text": [
      "0.8779105141517254\n",
      "alpha: 0.500000\n",
      "l1_ratio_: 0.980000\n"
     ]
    }
   ],
   "source": [
    "cv = RepeatedKFold(n_splits=10, n_repeats=3, random_state=1)\n",
    "# define model\n",
    "ratios = arange(0, 1, 0.02) #book's alpha\n",
    "alphas = arange(0,20,0.5) #book's lambda\n",
    "model = ElasticNetCV(l1_ratio=ratios, alphas=alphas, cv=cv)\n",
    "# define model evaluation method\n",
    "\n",
    "# evaluate model\n",
    "model.fit(X2df, y)\n",
    "print(model.score(X2df,y))\n",
    "print('alpha: %f' % model.alpha_)\n",
    "print('l1_ratio_: %f' % model.l1_ratio_)"
   ]
  },
  {
   "cell_type": "code",
   "execution_count": null,
   "metadata": {},
   "outputs": [],
   "source": []
  }
 ],
 "metadata": {
  "kernelspec": {
   "display_name": "base",
   "language": "python",
   "name": "python3"
  },
  "language_info": {
   "codemirror_mode": {
    "name": "ipython",
    "version": 3
   },
   "file_extension": ".py",
   "mimetype": "text/x-python",
   "name": "python",
   "nbconvert_exporter": "python",
   "pygments_lexer": "ipython3",
   "version": "3.8.5"
  },
  "orig_nbformat": 4,
  "vscode": {
   "interpreter": {
    "hash": "5e9236c168fd9c5a2497735f30867c8b2a4981b493523b82ffb7e802a066bea3"
   }
  }
 },
 "nbformat": 4,
 "nbformat_minor": 2
}
